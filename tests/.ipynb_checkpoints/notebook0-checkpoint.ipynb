{
 "cells": [
  {
   "cell_type": "code",
   "execution_count": 1,
   "metadata": {},
   "outputs": [],
   "source": [
    "import datetime\n",
    "\n",
    "import pandas as pd\n",
    "import spotipy\n",
    "from spotipy.oauth2 import SpotifyClientCredentials\n",
    "\n",
    "spotify = spotipy.Spotify(client_credentials_manager=SpotifyClientCredentials())"
   ]
  },
  {
   "cell_type": "code",
   "execution_count": 44,
   "metadata": {},
   "outputs": [
    {
     "data": {
      "text/html": [
       "<style type=\"text/css\">\n",
       "#T_8989f_row0_col0, #T_8989f_row0_col1, #T_8989f_row0_col2, #T_8989f_row1_col0, #T_8989f_row1_col1, #T_8989f_row1_col2, #T_8989f_row2_col0, #T_8989f_row2_col1, #T_8989f_row2_col2, #T_8989f_row3_col0, #T_8989f_row3_col1, #T_8989f_row3_col2, #T_8989f_row4_col0, #T_8989f_row4_col1, #T_8989f_row4_col2, #T_8989f_row5_col0, #T_8989f_row5_col1, #T_8989f_row5_col2 {\n",
       "  text-align: left;\n",
       "}\n",
       "</style>\n",
       "<table id=\"T_8989f\">\n",
       "  <thead>\n",
       "    <tr>\n",
       "      <th class=\"blank level0\" >&nbsp;</th>\n",
       "      <th id=\"T_8989f_level0_col0\" class=\"col_heading level0 col0\" >name</th>\n",
       "      <th id=\"T_8989f_level0_col1\" class=\"col_heading level0 col1\" >release_date</th>\n",
       "      <th id=\"T_8989f_level0_col2\" class=\"col_heading level0 col2\" >uri</th>\n",
       "    </tr>\n",
       "  </thead>\n",
       "  <tbody>\n",
       "    <tr>\n",
       "      <th id=\"T_8989f_level0_row0\" class=\"row_heading level0 row0\" >0</th>\n",
       "      <td id=\"T_8989f_row0_col0\" class=\"data row0 col0\" >Is This It</td>\n",
       "      <td id=\"T_8989f_row0_col1\" class=\"data row0 col1\" >2001-07-30</td>\n",
       "      <td id=\"T_8989f_row0_col2\" class=\"data row0 col2\" >spotify:album:2yNaksHgeMQM9Quse463b5</td>\n",
       "    </tr>\n",
       "    <tr>\n",
       "      <th id=\"T_8989f_level0_row1\" class=\"row_heading level0 row1\" >1</th>\n",
       "      <td id=\"T_8989f_row1_col0\" class=\"data row1 col0\" >Room On Fire</td>\n",
       "      <td id=\"T_8989f_row1_col1\" class=\"data row1 col1\" >2003-10-28</td>\n",
       "      <td id=\"T_8989f_row1_col2\" class=\"data row1 col2\" >spotify:album:3HFbH1loOUbqCyPsLuHLLh</td>\n",
       "    </tr>\n",
       "    <tr>\n",
       "      <th id=\"T_8989f_level0_row2\" class=\"row_heading level0 row2\" >2</th>\n",
       "      <td id=\"T_8989f_row2_col0\" class=\"data row2 col0\" >First Impressions Of Earth</td>\n",
       "      <td id=\"T_8989f_row2_col1\" class=\"data row2 col1\" >2006-01-03</td>\n",
       "      <td id=\"T_8989f_row2_col2\" class=\"data row2 col2\" >spotify:album:6jb1VsNC9eH2A1PnHUZJkC</td>\n",
       "    </tr>\n",
       "    <tr>\n",
       "      <th id=\"T_8989f_level0_row3\" class=\"row_heading level0 row3\" >3</th>\n",
       "      <td id=\"T_8989f_row3_col0\" class=\"data row3 col0\" >Angles</td>\n",
       "      <td id=\"T_8989f_row3_col1\" class=\"data row3 col1\" >2011-03-21</td>\n",
       "      <td id=\"T_8989f_row3_col2\" class=\"data row3 col2\" >spotify:album:6Jx4cGhWHewTcfKDJKguBQ</td>\n",
       "    </tr>\n",
       "    <tr>\n",
       "      <th id=\"T_8989f_level0_row4\" class=\"row_heading level0 row4\" >4</th>\n",
       "      <td id=\"T_8989f_row4_col0\" class=\"data row4 col0\" >Comedown Machine</td>\n",
       "      <td id=\"T_8989f_row4_col1\" class=\"data row4 col1\" >2013-03-25</td>\n",
       "      <td id=\"T_8989f_row4_col2\" class=\"data row4 col2\" >spotify:album:4WnkQO4xD9ljQooB3VIxCV</td>\n",
       "    </tr>\n",
       "    <tr>\n",
       "      <th id=\"T_8989f_level0_row5\" class=\"row_heading level0 row5\" >5</th>\n",
       "      <td id=\"T_8989f_row5_col0\" class=\"data row5 col0\" >The New Abnormal</td>\n",
       "      <td id=\"T_8989f_row5_col1\" class=\"data row5 col1\" >2020-04-10</td>\n",
       "      <td id=\"T_8989f_row5_col2\" class=\"data row5 col2\" >spotify:album:2xkZV2Hl1Omi8rk2D7t5lN</td>\n",
       "    </tr>\n",
       "  </tbody>\n",
       "</table>\n"
      ],
      "text/plain": [
       "<pandas.io.formats.style.Styler at 0x7f14b4e417c0>"
      ]
     },
     "execution_count": 44,
     "metadata": {},
     "output_type": "execute_result"
    }
   ],
   "source": [
    "name = 'Strokes'\n",
    "results = spotify.search(q='artist:' + name, type='artist')\n",
    "uri = results['artists']['items'][0]['uri']\n",
    "\n",
    "results = spotify.artist_albums(uri, album_type='album')\n",
    "\n",
    "albums = results['items']\n",
    "\n",
    "#while results['next']:\n",
    "#    results = spotify.next(results)\n",
    "#    albums.extend(results['items'])\n",
    "    \n",
    "df = pd.DataFrame(columns=['name', 'release_date', 'uri'])\n",
    "\n",
    "for i, album in enumerate(albums.__reversed__()):\n",
    " \n",
    "    if album['name'] not in df['name'].values:\n",
    "        df = pd.concat([df, \n",
    "                        pd.DataFrame({'name' : album['name'], \n",
    "                                      'release_date' : album['release_date'],\n",
    "                                      'uri' : album['uri']},\n",
    "                                     index=[i])])\n",
    "\n",
    "\n",
    "df.index = range(df.shape[0])   \n",
    "df = df.style.set_properties(**{'text-align': 'left'})\n",
    "df"
   ]
  },
  {
   "cell_type": "code",
   "execution_count": 46,
   "metadata": {},
   "outputs": [
    {
     "name": "stdout",
     "output_type": "stream",
     "text": [
      "Help on method artist_albums in module spotipy.client:\n",
      "\n",
      "artist_albums(artist_id, album_type=None, country=None, limit=20, offset=0) method of spotipy.client.Spotify instance\n",
      "    Get Spotify catalog information about an artist's albums\n",
      "    \n",
      "    Parameters:\n",
      "        - artist_id - the artist ID, URI or URL\n",
      "        - album_type - 'album', 'single', 'appears_on', 'compilation'\n",
      "        - country - limit the response to one particular country.\n",
      "        - limit  - the number of albums to return\n",
      "        - offset - the index of the first album to return\n",
      "\n"
     ]
    }
   ],
   "source": [
    "help(spotify.artist_albums)"
   ]
  },
  {
   "cell_type": "code",
   "execution_count": null,
   "metadata": {},
   "outputs": [],
   "source": []
  }
 ],
 "metadata": {
  "kernelspec": {
   "display_name": "sptfy",
   "language": "python",
   "name": "sptfy"
  },
  "language_info": {
   "codemirror_mode": {
    "name": "ipython",
    "version": 3
   },
   "file_extension": ".py",
   "mimetype": "text/x-python",
   "name": "python",
   "nbconvert_exporter": "python",
   "pygments_lexer": "ipython3",
   "version": "3.9.12"
  }
 },
 "nbformat": 4,
 "nbformat_minor": 2
}
