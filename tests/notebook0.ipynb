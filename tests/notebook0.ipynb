{
 "cells": [
  {
   "cell_type": "code",
   "execution_count": 1,
   "metadata": {},
   "outputs": [],
   "source": [
    "import datetime\n",
    "\n",
    "import numpy as np\n",
    "import pandas as pd\n",
    "import spotipy\n",
    "from spotipy.oauth2 import SpotifyClientCredentials\n",
    "\n",
    "spotify = spotipy.Spotify(client_credentials_manager=SpotifyClientCredentials())"
   ]
  },
  {
   "cell_type": "code",
   "execution_count": 47,
   "metadata": {},
   "outputs": [
    {
     "data": {
      "text/html": [
       "<div>\n",
       "<style scoped>\n",
       "    .dataframe tbody tr th:only-of-type {\n",
       "        vertical-align: middle;\n",
       "    }\n",
       "\n",
       "    .dataframe tbody tr th {\n",
       "        vertical-align: top;\n",
       "    }\n",
       "\n",
       "    .dataframe thead th {\n",
       "        text-align: right;\n",
       "    }\n",
       "</style>\n",
       "<table border=\"1\" class=\"dataframe\">\n",
       "  <thead>\n",
       "    <tr style=\"text-align: right;\">\n",
       "      <th></th>\n",
       "      <th>name</th>\n",
       "      <th>release_date</th>\n",
       "      <th>uri</th>\n",
       "    </tr>\n",
       "  </thead>\n",
       "  <tbody>\n",
       "    <tr>\n",
       "      <th>0</th>\n",
       "      <td>Whatever People Say I Am, That's What I'm Not</td>\n",
       "      <td>2006-01-29</td>\n",
       "      <td>spotify:album:50Zz8CkIhATKUlQMbHO3k1</td>\n",
       "    </tr>\n",
       "    <tr>\n",
       "      <th>1</th>\n",
       "      <td>Favourite Worst Nightmare</td>\n",
       "      <td>2007-04-22</td>\n",
       "      <td>spotify:album:1XkGORuUX2QGOEIL4EbJKm</td>\n",
       "    </tr>\n",
       "    <tr>\n",
       "      <th>3</th>\n",
       "      <td>Humbug</td>\n",
       "      <td>2009-08-20</td>\n",
       "      <td>spotify:album:5IEoiwkThhRmSMBANhpxl2</td>\n",
       "    </tr>\n",
       "    <tr>\n",
       "      <th>4</th>\n",
       "      <td>Suck It and See</td>\n",
       "      <td>2011-06-06</td>\n",
       "      <td>spotify:album:2ym2jcqckXqWeTDoxz3Kst</td>\n",
       "    </tr>\n",
       "    <tr>\n",
       "      <th>5</th>\n",
       "      <td>AM</td>\n",
       "      <td>2013-09-09</td>\n",
       "      <td>spotify:album:78bpIziExqiI9qztvNFlQu</td>\n",
       "    </tr>\n",
       "    <tr>\n",
       "      <th>6</th>\n",
       "      <td>Tranquility Base Hotel &amp; Casino</td>\n",
       "      <td>2018-05-10</td>\n",
       "      <td>spotify:album:7v6FNgLDS8KmaWA1amUtqe</td>\n",
       "    </tr>\n",
       "    <tr>\n",
       "      <th>8</th>\n",
       "      <td>The Car</td>\n",
       "      <td>2022-10-21</td>\n",
       "      <td>spotify:album:1kqHAucTGT1dJAtNXY8QDW</td>\n",
       "    </tr>\n",
       "  </tbody>\n",
       "</table>\n",
       "</div>"
      ],
      "text/plain": [
       "                                            name release_date  \\\n",
       "0  Whatever People Say I Am, That's What I'm Not   2006-01-29   \n",
       "1                      Favourite Worst Nightmare   2007-04-22   \n",
       "3                                         Humbug   2009-08-20   \n",
       "4                                Suck It and See   2011-06-06   \n",
       "5                                             AM   2013-09-09   \n",
       "6                Tranquility Base Hotel & Casino   2018-05-10   \n",
       "8                                        The Car   2022-10-21   \n",
       "\n",
       "                                    uri  \n",
       "0  spotify:album:50Zz8CkIhATKUlQMbHO3k1  \n",
       "1  spotify:album:1XkGORuUX2QGOEIL4EbJKm  \n",
       "3  spotify:album:5IEoiwkThhRmSMBANhpxl2  \n",
       "4  spotify:album:2ym2jcqckXqWeTDoxz3Kst  \n",
       "5  spotify:album:78bpIziExqiI9qztvNFlQu  \n",
       "6  spotify:album:7v6FNgLDS8KmaWA1amUtqe  \n",
       "8  spotify:album:1kqHAucTGT1dJAtNXY8QDW  "
      ]
     },
     "execution_count": 47,
     "metadata": {},
     "output_type": "execute_result"
    }
   ],
   "source": [
    "name = 'Arctic Monkeys'\n",
    "results = spotify.search(q='artist:' + name, type='artist')\n",
    "uri = results['artists']['items'][0]['uri']\n",
    "\n",
    "results = spotify.artist_albums(uri, album_type='album')\n",
    "\n",
    "albums = results['items']\n",
    "\n",
    "#while results['next']:\n",
    "#    results = spotify.next(results)\n",
    "#    albums.extend(results['items'])\n",
    "    \n",
    "df = pd.DataFrame(columns=['name', 'release_date', 'uri'])\n",
    "\n",
    "for i, album in enumerate(albums.__reversed__()):\n",
    "\n",
    "    if album['name'] not in df['name'].values:\n",
    "\n",
    "        df = pd.concat([df, \n",
    "                        pd.DataFrame({'name' : album['name'], \n",
    "                                      'release_date' : album['release_date'],\n",
    "                                      'uri' : album['uri']},\n",
    "                                     index=[i])])\n",
    "\n",
    "\n",
    "df.index = range(df.shape[0])   \n",
    "#df = df.style.set_properties(**{'text-align': 'left'})\n",
    "df = df.drop([2,7])\n",
    "df"
   ]
  },
  {
   "cell_type": "code",
   "execution_count": 18,
   "metadata": {},
   "outputs": [
    {
     "data": {
      "text/plain": [
       "0    Whatever People Say I Am, That's What I'm Not\n",
       "1                        Favourite Worst Nightmare\n",
       "2     Favourite Worst Nightmare (Standard Version)\n",
       "3                                           Humbug\n",
       "4                                  Suck It and See\n",
       "5                                               AM\n",
       "6                  Tranquility Base Hotel & Casino\n",
       "7                    Live at the Royal Albert Hall\n",
       "8                                          The Car\n",
       "Name: name, dtype: object"
      ]
     },
     "execution_count": 18,
     "metadata": {},
     "output_type": "execute_result"
    }
   ],
   "source": [
    "df['name']"
   ]
  },
  {
   "cell_type": "code",
   "execution_count": 50,
   "metadata": {},
   "outputs": [
    {
     "data": {
      "text/html": [
       "<div>\n",
       "<style scoped>\n",
       "    .dataframe tbody tr th:only-of-type {\n",
       "        vertical-align: middle;\n",
       "    }\n",
       "\n",
       "    .dataframe tbody tr th {\n",
       "        vertical-align: top;\n",
       "    }\n",
       "\n",
       "    .dataframe thead th {\n",
       "        text-align: right;\n",
       "    }\n",
       "</style>\n",
       "<table border=\"1\" class=\"dataframe\">\n",
       "  <thead>\n",
       "    <tr style=\"text-align: right;\">\n",
       "      <th></th>\n",
       "      <th>track_number</th>\n",
       "      <th>name</th>\n",
       "      <th>id</th>\n",
       "      <th>album</th>\n",
       "    </tr>\n",
       "  </thead>\n",
       "  <tbody>\n",
       "    <tr>\n",
       "      <th>0</th>\n",
       "      <td>1</td>\n",
       "      <td>The View From The Afternoon</td>\n",
       "      <td>5eyTC5GZzpzlN7YRO9AoPf</td>\n",
       "      <td>Whatever People Say I Am, That's What I'm Not</td>\n",
       "    </tr>\n",
       "    <tr>\n",
       "      <th>1</th>\n",
       "      <td>2</td>\n",
       "      <td>I Bet You Look Good On The Dancefloor</td>\n",
       "      <td>3DQVgcqaP3iSMbaKsd57l5</td>\n",
       "      <td>Whatever People Say I Am, That's What I'm Not</td>\n",
       "    </tr>\n",
       "    <tr>\n",
       "      <th>2</th>\n",
       "      <td>3</td>\n",
       "      <td>Fake Tales Of San Francisco</td>\n",
       "      <td>7BuzJmV2h6eBbSDdRaDY7C</td>\n",
       "      <td>Whatever People Say I Am, That's What I'm Not</td>\n",
       "    </tr>\n",
       "    <tr>\n",
       "      <th>3</th>\n",
       "      <td>4</td>\n",
       "      <td>Dancing Shoes</td>\n",
       "      <td>0hAMkY2kwdXPPDfQ1e3BmJ</td>\n",
       "      <td>Whatever People Say I Am, That's What I'm Not</td>\n",
       "    </tr>\n",
       "    <tr>\n",
       "      <th>4</th>\n",
       "      <td>5</td>\n",
       "      <td>You Probably Couldn't See For The Lights But Y...</td>\n",
       "      <td>111SaDBbcHW0zedi4RBHDp</td>\n",
       "      <td>Whatever People Say I Am, That's What I'm Not</td>\n",
       "    </tr>\n",
       "    <tr>\n",
       "      <th>...</th>\n",
       "      <td>...</td>\n",
       "      <td>...</td>\n",
       "      <td>...</td>\n",
       "      <td>...</td>\n",
       "    </tr>\n",
       "    <tr>\n",
       "      <th>75</th>\n",
       "      <td>6</td>\n",
       "      <td>The Car</td>\n",
       "      <td>7yzr3fhBxJRHt6M24m1gKg</td>\n",
       "      <td>The Car</td>\n",
       "    </tr>\n",
       "    <tr>\n",
       "      <th>76</th>\n",
       "      <td>7</td>\n",
       "      <td>Big Ideas</td>\n",
       "      <td>32LmcNM8fk7p7OznN6y6ZH</td>\n",
       "      <td>The Car</td>\n",
       "    </tr>\n",
       "    <tr>\n",
       "      <th>77</th>\n",
       "      <td>8</td>\n",
       "      <td>Hello You</td>\n",
       "      <td>3iNeb273j5psVhQy8rZReg</td>\n",
       "      <td>The Car</td>\n",
       "    </tr>\n",
       "    <tr>\n",
       "      <th>78</th>\n",
       "      <td>9</td>\n",
       "      <td>Mr Schwartz</td>\n",
       "      <td>7yviviXNt3Ia5MKADOIVE1</td>\n",
       "      <td>The Car</td>\n",
       "    </tr>\n",
       "    <tr>\n",
       "      <th>79</th>\n",
       "      <td>10</td>\n",
       "      <td>Perfect Sense</td>\n",
       "      <td>2gYlET3zymQlXc3NSNgPGG</td>\n",
       "      <td>The Car</td>\n",
       "    </tr>\n",
       "  </tbody>\n",
       "</table>\n",
       "<p>80 rows × 4 columns</p>\n",
       "</div>"
      ],
      "text/plain": [
       "   track_number                                               name  \\\n",
       "0             1                        The View From The Afternoon   \n",
       "1             2              I Bet You Look Good On The Dancefloor   \n",
       "2             3                        Fake Tales Of San Francisco   \n",
       "3             4                                      Dancing Shoes   \n",
       "4             5  You Probably Couldn't See For The Lights But Y...   \n",
       "..          ...                                                ...   \n",
       "75            6                                            The Car   \n",
       "76            7                                          Big Ideas   \n",
       "77            8                                          Hello You   \n",
       "78            9                                        Mr Schwartz   \n",
       "79           10                                      Perfect Sense   \n",
       "\n",
       "                        id                                          album  \n",
       "0   5eyTC5GZzpzlN7YRO9AoPf  Whatever People Say I Am, That's What I'm Not  \n",
       "1   3DQVgcqaP3iSMbaKsd57l5  Whatever People Say I Am, That's What I'm Not  \n",
       "2   7BuzJmV2h6eBbSDdRaDY7C  Whatever People Say I Am, That's What I'm Not  \n",
       "3   0hAMkY2kwdXPPDfQ1e3BmJ  Whatever People Say I Am, That's What I'm Not  \n",
       "4   111SaDBbcHW0zedi4RBHDp  Whatever People Say I Am, That's What I'm Not  \n",
       "..                     ...                                            ...  \n",
       "75  7yzr3fhBxJRHt6M24m1gKg                                        The Car  \n",
       "76  32LmcNM8fk7p7OznN6y6ZH                                        The Car  \n",
       "77  3iNeb273j5psVhQy8rZReg                                        The Car  \n",
       "78  7yviviXNt3Ia5MKADOIVE1                                        The Car  \n",
       "79  2gYlET3zymQlXc3NSNgPGG                                        The Car  \n",
       "\n",
       "[80 rows x 4 columns]"
      ]
     },
     "execution_count": 50,
     "metadata": {},
     "output_type": "execute_result"
    }
   ],
   "source": [
    "trckrry = np.ndarray(shape=(1,3))\n",
    "lst = []\n",
    "for name, uri in zip(df['name'], df['uri']):\n",
    "    for track in spotify.album_tracks(uri)['items']:\n",
    "\n",
    "        lst.append([track['track_number'], track['name'], track['id'], name])\n",
    "trckrry = np.array(lst)\n",
    "df2 = pd.DataFrame(trckrry, columns = ['track_number','name','id','album'])\n",
    "df2\n",
    "\n",
    "    "
   ]
  },
  {
   "cell_type": "code",
   "execution_count": 51,
   "metadata": {},
   "outputs": [
    {
     "data": {
      "text/html": [
       "<div>\n",
       "<style scoped>\n",
       "    .dataframe tbody tr th:only-of-type {\n",
       "        vertical-align: middle;\n",
       "    }\n",
       "\n",
       "    .dataframe tbody tr th {\n",
       "        vertical-align: top;\n",
       "    }\n",
       "\n",
       "    .dataframe thead th {\n",
       "        text-align: right;\n",
       "    }\n",
       "</style>\n",
       "<table border=\"1\" class=\"dataframe\">\n",
       "  <thead>\n",
       "    <tr style=\"text-align: right;\">\n",
       "      <th></th>\n",
       "      <th>track_number</th>\n",
       "      <th>name</th>\n",
       "      <th>id</th>\n",
       "      <th>album</th>\n",
       "      <th>danceability</th>\n",
       "      <th>energy</th>\n",
       "      <th>valence</th>\n",
       "      <th>mode</th>\n",
       "      <th>tempo</th>\n",
       "      <th>key</th>\n",
       "    </tr>\n",
       "  </thead>\n",
       "  <tbody>\n",
       "    <tr>\n",
       "      <th>0</th>\n",
       "      <td>1</td>\n",
       "      <td>The View From The Afternoon</td>\n",
       "      <td>5eyTC5GZzpzlN7YRO9AoPf</td>\n",
       "      <td>Whatever People Say I Am, That's What I'm Not</td>\n",
       "      <td>0.387</td>\n",
       "      <td>0.922</td>\n",
       "      <td>0.417</td>\n",
       "      <td>0.0</td>\n",
       "      <td>146.478</td>\n",
       "      <td>9.0</td>\n",
       "    </tr>\n",
       "    <tr>\n",
       "      <th>1</th>\n",
       "      <td>2</td>\n",
       "      <td>I Bet You Look Good On The Dancefloor</td>\n",
       "      <td>3DQVgcqaP3iSMbaKsd57l5</td>\n",
       "      <td>Whatever People Say I Am, That's What I'm Not</td>\n",
       "      <td>0.535</td>\n",
       "      <td>0.948</td>\n",
       "      <td>0.778</td>\n",
       "      <td>0.0</td>\n",
       "      <td>103.183</td>\n",
       "      <td>6.0</td>\n",
       "    </tr>\n",
       "    <tr>\n",
       "      <th>2</th>\n",
       "      <td>3</td>\n",
       "      <td>Fake Tales Of San Francisco</td>\n",
       "      <td>7BuzJmV2h6eBbSDdRaDY7C</td>\n",
       "      <td>Whatever People Say I Am, That's What I'm Not</td>\n",
       "      <td>0.454</td>\n",
       "      <td>0.778</td>\n",
       "      <td>0.704</td>\n",
       "      <td>1.0</td>\n",
       "      <td>127.158</td>\n",
       "      <td>9.0</td>\n",
       "    </tr>\n",
       "    <tr>\n",
       "      <th>3</th>\n",
       "      <td>4</td>\n",
       "      <td>Dancing Shoes</td>\n",
       "      <td>0hAMkY2kwdXPPDfQ1e3BmJ</td>\n",
       "      <td>Whatever People Say I Am, That's What I'm Not</td>\n",
       "      <td>0.522</td>\n",
       "      <td>0.889</td>\n",
       "      <td>0.852</td>\n",
       "      <td>1.0</td>\n",
       "      <td>144.499</td>\n",
       "      <td>1.0</td>\n",
       "    </tr>\n",
       "    <tr>\n",
       "      <th>4</th>\n",
       "      <td>5</td>\n",
       "      <td>You Probably Couldn't See For The Lights But Y...</td>\n",
       "      <td>111SaDBbcHW0zedi4RBHDp</td>\n",
       "      <td>Whatever People Say I Am, That's What I'm Not</td>\n",
       "      <td>0.580</td>\n",
       "      <td>0.972</td>\n",
       "      <td>0.926</td>\n",
       "      <td>0.0</td>\n",
       "      <td>105.492</td>\n",
       "      <td>11.0</td>\n",
       "    </tr>\n",
       "    <tr>\n",
       "      <th>...</th>\n",
       "      <td>...</td>\n",
       "      <td>...</td>\n",
       "      <td>...</td>\n",
       "      <td>...</td>\n",
       "      <td>...</td>\n",
       "      <td>...</td>\n",
       "      <td>...</td>\n",
       "      <td>...</td>\n",
       "      <td>...</td>\n",
       "      <td>...</td>\n",
       "    </tr>\n",
       "    <tr>\n",
       "      <th>75</th>\n",
       "      <td>6</td>\n",
       "      <td>The Car</td>\n",
       "      <td>7yzr3fhBxJRHt6M24m1gKg</td>\n",
       "      <td>The Car</td>\n",
       "      <td>0.428</td>\n",
       "      <td>0.365</td>\n",
       "      <td>0.236</td>\n",
       "      <td>0.0</td>\n",
       "      <td>94.033</td>\n",
       "      <td>4.0</td>\n",
       "    </tr>\n",
       "    <tr>\n",
       "      <th>76</th>\n",
       "      <td>7</td>\n",
       "      <td>Big Ideas</td>\n",
       "      <td>32LmcNM8fk7p7OznN6y6ZH</td>\n",
       "      <td>The Car</td>\n",
       "      <td>0.548</td>\n",
       "      <td>0.328</td>\n",
       "      <td>0.343</td>\n",
       "      <td>0.0</td>\n",
       "      <td>67.023</td>\n",
       "      <td>9.0</td>\n",
       "    </tr>\n",
       "    <tr>\n",
       "      <th>77</th>\n",
       "      <td>8</td>\n",
       "      <td>Hello You</td>\n",
       "      <td>3iNeb273j5psVhQy8rZReg</td>\n",
       "      <td>The Car</td>\n",
       "      <td>0.394</td>\n",
       "      <td>0.452</td>\n",
       "      <td>0.653</td>\n",
       "      <td>0.0</td>\n",
       "      <td>169.298</td>\n",
       "      <td>4.0</td>\n",
       "    </tr>\n",
       "    <tr>\n",
       "      <th>78</th>\n",
       "      <td>9</td>\n",
       "      <td>Mr Schwartz</td>\n",
       "      <td>7yviviXNt3Ia5MKADOIVE1</td>\n",
       "      <td>The Car</td>\n",
       "      <td>0.569</td>\n",
       "      <td>0.335</td>\n",
       "      <td>0.388</td>\n",
       "      <td>0.0</td>\n",
       "      <td>127.587</td>\n",
       "      <td>11.0</td>\n",
       "    </tr>\n",
       "    <tr>\n",
       "      <th>79</th>\n",
       "      <td>10</td>\n",
       "      <td>Perfect Sense</td>\n",
       "      <td>2gYlET3zymQlXc3NSNgPGG</td>\n",
       "      <td>The Car</td>\n",
       "      <td>0.520</td>\n",
       "      <td>0.478</td>\n",
       "      <td>0.545</td>\n",
       "      <td>1.0</td>\n",
       "      <td>82.932</td>\n",
       "      <td>4.0</td>\n",
       "    </tr>\n",
       "  </tbody>\n",
       "</table>\n",
       "<p>80 rows × 10 columns</p>\n",
       "</div>"
      ],
      "text/plain": [
       "   track_number                                               name  \\\n",
       "0             1                        The View From The Afternoon   \n",
       "1             2              I Bet You Look Good On The Dancefloor   \n",
       "2             3                        Fake Tales Of San Francisco   \n",
       "3             4                                      Dancing Shoes   \n",
       "4             5  You Probably Couldn't See For The Lights But Y...   \n",
       "..          ...                                                ...   \n",
       "75            6                                            The Car   \n",
       "76            7                                          Big Ideas   \n",
       "77            8                                          Hello You   \n",
       "78            9                                        Mr Schwartz   \n",
       "79           10                                      Perfect Sense   \n",
       "\n",
       "                        id                                          album  \\\n",
       "0   5eyTC5GZzpzlN7YRO9AoPf  Whatever People Say I Am, That's What I'm Not   \n",
       "1   3DQVgcqaP3iSMbaKsd57l5  Whatever People Say I Am, That's What I'm Not   \n",
       "2   7BuzJmV2h6eBbSDdRaDY7C  Whatever People Say I Am, That's What I'm Not   \n",
       "3   0hAMkY2kwdXPPDfQ1e3BmJ  Whatever People Say I Am, That's What I'm Not   \n",
       "4   111SaDBbcHW0zedi4RBHDp  Whatever People Say I Am, That's What I'm Not   \n",
       "..                     ...                                            ...   \n",
       "75  7yzr3fhBxJRHt6M24m1gKg                                        The Car   \n",
       "76  32LmcNM8fk7p7OznN6y6ZH                                        The Car   \n",
       "77  3iNeb273j5psVhQy8rZReg                                        The Car   \n",
       "78  7yviviXNt3Ia5MKADOIVE1                                        The Car   \n",
       "79  2gYlET3zymQlXc3NSNgPGG                                        The Car   \n",
       "\n",
       "    danceability  energy  valence  mode    tempo   key  \n",
       "0          0.387   0.922    0.417   0.0  146.478   9.0  \n",
       "1          0.535   0.948    0.778   0.0  103.183   6.0  \n",
       "2          0.454   0.778    0.704   1.0  127.158   9.0  \n",
       "3          0.522   0.889    0.852   1.0  144.499   1.0  \n",
       "4          0.580   0.972    0.926   0.0  105.492  11.0  \n",
       "..           ...     ...      ...   ...      ...   ...  \n",
       "75         0.428   0.365    0.236   0.0   94.033   4.0  \n",
       "76         0.548   0.328    0.343   0.0   67.023   9.0  \n",
       "77         0.394   0.452    0.653   0.0  169.298   4.0  \n",
       "78         0.569   0.335    0.388   0.0  127.587  11.0  \n",
       "79         0.520   0.478    0.545   1.0   82.932   4.0  \n",
       "\n",
       "[80 rows x 10 columns]"
      ]
     },
     "execution_count": 51,
     "metadata": {},
     "output_type": "execute_result"
    }
   ],
   "source": [
    "for i, id in enumerate(df2['id']):\n",
    "    df2.loc[i,'danceability'] = spotify.audio_features(tracks=id)[0]['danceability']\n",
    "    df2.loc[i,'energy'] = spotify.audio_features(tracks=id)[0]['energy']\n",
    "    df2.loc[i,'valence'] = spotify.audio_features(tracks=id)[0]['valence']\n",
    "    df2.loc[i,'mode'] = spotify.audio_features(tracks=id)[0]['mode']\n",
    "    df2.loc[i,'tempo'] = spotify.audio_features(tracks=id)[0]['tempo']\n",
    "    df2.loc[i,'key'] = spotify.audio_features(tracks=id)[0]['key']\n",
    "\n",
    "df2"
   ]
  },
  {
   "cell_type": "code",
   "execution_count": 55,
   "metadata": {},
   "outputs": [
    {
     "data": {
      "application/vnd.plotly.v1+json": {
       "config": {
        "plotlyServerURL": "https://plot.ly"
       },
       "data": [
        {
         "hovertemplate": "<b>%{hovertext}</b><br><br>album=Whatever People Say I Am, That's What I'm Not<br>danceability=%{x}<br>energy=%{y}<br>mood=%{z}<extra></extra>",
         "hovertext": [
          "The View From The Afternoon",
          "I Bet You Look Good On The Dancefloor",
          "Fake Tales Of San Francisco",
          "Dancing Shoes",
          "You Probably Couldn't See For The Lights But You Were Staring Straight At Me",
          "Still Take You Home",
          "Riot Van",
          "Red Light Indicates Doors Are Secured",
          "Mardy Bum",
          "Perhaps Vampires Is A Bit Strong But…",
          "When The Sun Goes Down",
          "From The Ritz To The Rubble",
          "A Certain Romance"
         ],
         "legendgroup": "Whatever People Say I Am, That's What I'm Not",
         "marker": {
          "color": "#636efa",
          "symbol": "circle"
         },
         "mode": "markers",
         "name": "Whatever People Say I Am, That's What I'm Not",
         "scene": "scene",
         "showlegend": true,
         "type": "scatter3d",
         "x": [
          0.387,
          0.535,
          0.454,
          0.522,
          0.58,
          0.599,
          0.593,
          0.622,
          0.634,
          0.371,
          0.348,
          0.216,
          0.455
         ],
         "y": [
          0.922,
          0.948,
          0.778,
          0.889,
          0.972,
          0.946,
          0.333,
          0.846,
          0.599,
          0.914,
          0.875,
          0.882,
          0.881
         ],
         "z": [
          0.417,
          0.778,
          0.704,
          0.852,
          0.926,
          0.653,
          0.258,
          0.914,
          0.312,
          0.394,
          0.407,
          0.656,
          0.201
         ]
        },
        {
         "hovertemplate": "<b>%{hovertext}</b><br><br>album=Favourite Worst Nightmare<br>danceability=%{x}<br>energy=%{y}<br>mood=%{z}<extra></extra>",
         "hovertext": [
          "Brianstorm",
          "Teddy Picker",
          "D is for Dangerous",
          "Balaclava",
          "Fluorescent Adolescent",
          "Only Ones Who Know",
          "Do Me a Favour",
          "This House is a Circus",
          "If You Were There, Beware",
          "The Bad Thing",
          "Old Yellow Bricks",
          "505"
         ],
         "legendgroup": "Favourite Worst Nightmare",
         "marker": {
          "color": "#EF553B",
          "symbol": "circle"
         },
         "mode": "markers",
         "name": "Favourite Worst Nightmare",
         "scene": "scene",
         "showlegend": true,
         "type": "scatter3d",
         "x": [
          0.42,
          0.637,
          0.555,
          0.414,
          0.654,
          0.29,
          0.469,
          0.476,
          0.328,
          0.55,
          0.66,
          0.526
         ],
         "y": [
          0.974,
          0.963,
          0.925,
          0.811,
          0.828,
          0.399,
          0.738,
          0.844,
          0.805,
          0.952,
          0.837,
          0.866
         ],
         "z": [
          0.463,
          0.823,
          0.77,
          0.762,
          0.79,
          0.0965,
          0.624,
          0.658,
          0.264,
          0.538,
          0.757,
          0.248
         ]
        },
        {
         "hovertemplate": "<b>%{hovertext}</b><br><br>album=Humbug<br>danceability=%{x}<br>energy=%{y}<br>mood=%{z}<extra></extra>",
         "hovertext": [
          "My Propeller",
          "Crying Lightning",
          "Dangerous Animals",
          "Secret Door",
          "Potion Approaching",
          "Fire And The Thud",
          "Cornerstone",
          "Dance Little Liar",
          "Pretty Visitors",
          "The Jeweller's Hands"
         ],
         "legendgroup": "Humbug",
         "marker": {
          "color": "#00cc96",
          "symbol": "circle"
         },
         "mode": "markers",
         "name": "Humbug",
         "scene": "scene",
         "showlegend": true,
         "type": "scatter3d",
         "x": [
          0.415,
          0.498,
          0.34,
          0.323,
          0.421,
          0.566,
          0.287,
          0.538,
          0.244,
          0.51
         ],
         "y": [
          0.657,
          0.885,
          0.922,
          0.806,
          0.758,
          0.61,
          0.721,
          0.607,
          0.896,
          0.8
         ],
         "z": [
          0.69,
          0.67,
          0.532,
          0.548,
          0.767,
          0.406,
          0.763,
          0.543,
          0.142,
          0.391
         ]
        },
        {
         "hovertemplate": "<b>%{hovertext}</b><br><br>album=Suck It and See<br>danceability=%{x}<br>energy=%{y}<br>mood=%{z}<extra></extra>",
         "hovertext": [
          "She's Thunderstorms",
          "Black Treacle",
          "Brick By Brick",
          "The Hellcat Spangled Shalalala",
          "Don't Sit Down 'Cause I've Moved Your Chair",
          "Library Pictures",
          "All My Own Stunts",
          "Reckless Serenade",
          "Piledriver Waltz",
          "Love is a Laserquest",
          "Suck It and See",
          "That's Where You're Wrong"
         ],
         "legendgroup": "Suck It and See",
         "marker": {
          "color": "#ab63fa",
          "symbol": "circle"
         },
         "mode": "markers",
         "name": "Suck It and See",
         "scene": "scene",
         "showlegend": true,
         "type": "scatter3d",
         "x": [
          0.505,
          0.343,
          0.285,
          0.449,
          0.434,
          0.304,
          0.511,
          0.585,
          0.443,
          0.349,
          0.339,
          0.481
         ],
         "y": [
          0.898,
          0.89,
          0.807,
          0.872,
          0.912,
          0.939,
          0.943,
          0.694,
          0.865,
          0.662,
          0.932,
          0.883
         ],
         "z": [
          0.731,
          0.525,
          0.542,
          0.788,
          0.315,
          0.402,
          0.531,
          0.785,
          0.474,
          0.554,
          0.586,
          0.46
         ]
        },
        {
         "hovertemplate": "<b>%{hovertext}</b><br><br>album=AM<br>danceability=%{x}<br>energy=%{y}<br>mood=%{z}<extra></extra>",
         "hovertext": [
          "Do I Wanna Know?",
          "R U Mine?",
          "One For The Road",
          "Arabella",
          "I Want It All",
          "No. 1 Party Anthem",
          "Mad Sounds",
          "Fireside",
          "Why'd You Only Call Me When You're High?",
          "Snap Out Of It",
          "Knee Socks",
          "I Wanna Be Yours"
         ],
         "legendgroup": "AM",
         "marker": {
          "color": "#FFA15A",
          "symbol": "circle"
         },
         "mode": "markers",
         "name": "AM",
         "scene": "scene",
         "showlegend": true,
         "type": "scatter3d",
         "x": [
          0.548,
          0.288,
          0.415,
          0.579,
          0.499,
          0.505,
          0.532,
          0.538,
          0.691,
          0.728,
          0.665,
          0.464
         ],
         "y": [
          0.532,
          0.758,
          0.668,
          0.558,
          0.81,
          0.698,
          0.462,
          0.953,
          0.631,
          0.638,
          0.542,
          0.417
         ],
         "z": [
          0.405,
          0.619,
          0.842,
          0.506,
          0.288,
          0.599,
          0.485,
          0.74,
          0.8,
          0.872,
          0.587,
          0.479
         ]
        },
        {
         "hovertemplate": "<b>%{hovertext}</b><br><br>album=Tranquility Base Hotel & Casino<br>danceability=%{x}<br>energy=%{y}<br>mood=%{z}<extra></extra>",
         "hovertext": [
          "Star Treatment",
          "One Point Perspective",
          "American Sports",
          "Tranquility Base Hotel & Casino",
          "Golden Trunks",
          "Four Out Of Five",
          "The World's First Ever Monster Truck Front Flip",
          "Science Fiction",
          "She Looks Like Fun",
          "Batphone",
          "The Ultracheese"
         ],
         "legendgroup": "Tranquility Base Hotel & Casino",
         "marker": {
          "color": "#19d3f3",
          "symbol": "circle"
         },
         "mode": "markers",
         "name": "Tranquility Base Hotel & Casino",
         "scene": "scene",
         "showlegend": true,
         "type": "scatter3d",
         "x": [
          0.581,
          0.714,
          0.372,
          0.584,
          0.492,
          0.601,
          0.602,
          0.542,
          0.514,
          0.675,
          0.476
         ],
         "y": [
          0.767,
          0.585,
          0.865,
          0.835,
          0.564,
          0.863,
          0.601,
          0.766,
          0.773,
          0.681,
          0.555
         ],
         "z": [
          0.673,
          0.842,
          0.594,
          0.781,
          0.0896,
          0.676,
          0.553,
          0.643,
          0.445,
          0.675,
          0.426
         ]
        },
        {
         "hovertemplate": "<b>%{hovertext}</b><br><br>album=The Car<br>danceability=%{x}<br>energy=%{y}<br>mood=%{z}<extra></extra>",
         "hovertext": [
          "There’d Better Be A Mirrorball",
          "I Ain’t Quite Where I Think I Am",
          "Sculptures Of Anything Goes",
          "Jet Skis On The Moat",
          "Body Paint",
          "The Car",
          "Big Ideas",
          "Hello You",
          "Mr Schwartz",
          "Perfect Sense"
         ],
         "legendgroup": "The Car",
         "marker": {
          "color": "#FF6692",
          "symbol": "circle"
         },
         "mode": "markers",
         "name": "The Car",
         "scene": "scene",
         "showlegend": true,
         "type": "scatter3d",
         "x": [
          0.521,
          0.544,
          0.591,
          0.651,
          0.556,
          0.428,
          0.548,
          0.394,
          0.569,
          0.52
         ],
         "y": [
          0.365,
          0.337,
          0.309,
          0.244,
          0.315,
          0.365,
          0.328,
          0.452,
          0.335,
          0.478
         ],
         "z": [
          0.324,
          0.667,
          0.257,
          0.395,
          0.256,
          0.236,
          0.343,
          0.653,
          0.388,
          0.545
         ]
        }
       ],
       "layout": {
        "legend": {
         "title": {
          "text": "album"
         },
         "tracegroupgap": 0
        },
        "margin": {
         "t": 60
        },
        "scene": {
         "domain": {
          "x": [
           0,
           1
          ],
          "y": [
           0,
           1
          ]
         },
         "xaxis": {
          "title": {
           "text": "danceability"
          }
         },
         "yaxis": {
          "title": {
           "text": "energy"
          }
         },
         "zaxis": {
          "title": {
           "text": "mood"
          }
         }
        },
        "template": {
         "data": {
          "bar": [
           {
            "error_x": {
             "color": "#2a3f5f"
            },
            "error_y": {
             "color": "#2a3f5f"
            },
            "marker": {
             "line": {
              "color": "#E5ECF6",
              "width": 0.5
             },
             "pattern": {
              "fillmode": "overlay",
              "size": 10,
              "solidity": 0.2
             }
            },
            "type": "bar"
           }
          ],
          "barpolar": [
           {
            "marker": {
             "line": {
              "color": "#E5ECF6",
              "width": 0.5
             },
             "pattern": {
              "fillmode": "overlay",
              "size": 10,
              "solidity": 0.2
             }
            },
            "type": "barpolar"
           }
          ],
          "carpet": [
           {
            "aaxis": {
             "endlinecolor": "#2a3f5f",
             "gridcolor": "white",
             "linecolor": "white",
             "minorgridcolor": "white",
             "startlinecolor": "#2a3f5f"
            },
            "baxis": {
             "endlinecolor": "#2a3f5f",
             "gridcolor": "white",
             "linecolor": "white",
             "minorgridcolor": "white",
             "startlinecolor": "#2a3f5f"
            },
            "type": "carpet"
           }
          ],
          "choropleth": [
           {
            "colorbar": {
             "outlinewidth": 0,
             "ticks": ""
            },
            "type": "choropleth"
           }
          ],
          "contour": [
           {
            "colorbar": {
             "outlinewidth": 0,
             "ticks": ""
            },
            "colorscale": [
             [
              0,
              "#0d0887"
             ],
             [
              0.1111111111111111,
              "#46039f"
             ],
             [
              0.2222222222222222,
              "#7201a8"
             ],
             [
              0.3333333333333333,
              "#9c179e"
             ],
             [
              0.4444444444444444,
              "#bd3786"
             ],
             [
              0.5555555555555556,
              "#d8576b"
             ],
             [
              0.6666666666666666,
              "#ed7953"
             ],
             [
              0.7777777777777778,
              "#fb9f3a"
             ],
             [
              0.8888888888888888,
              "#fdca26"
             ],
             [
              1,
              "#f0f921"
             ]
            ],
            "type": "contour"
           }
          ],
          "contourcarpet": [
           {
            "colorbar": {
             "outlinewidth": 0,
             "ticks": ""
            },
            "type": "contourcarpet"
           }
          ],
          "heatmap": [
           {
            "colorbar": {
             "outlinewidth": 0,
             "ticks": ""
            },
            "colorscale": [
             [
              0,
              "#0d0887"
             ],
             [
              0.1111111111111111,
              "#46039f"
             ],
             [
              0.2222222222222222,
              "#7201a8"
             ],
             [
              0.3333333333333333,
              "#9c179e"
             ],
             [
              0.4444444444444444,
              "#bd3786"
             ],
             [
              0.5555555555555556,
              "#d8576b"
             ],
             [
              0.6666666666666666,
              "#ed7953"
             ],
             [
              0.7777777777777778,
              "#fb9f3a"
             ],
             [
              0.8888888888888888,
              "#fdca26"
             ],
             [
              1,
              "#f0f921"
             ]
            ],
            "type": "heatmap"
           }
          ],
          "heatmapgl": [
           {
            "colorbar": {
             "outlinewidth": 0,
             "ticks": ""
            },
            "colorscale": [
             [
              0,
              "#0d0887"
             ],
             [
              0.1111111111111111,
              "#46039f"
             ],
             [
              0.2222222222222222,
              "#7201a8"
             ],
             [
              0.3333333333333333,
              "#9c179e"
             ],
             [
              0.4444444444444444,
              "#bd3786"
             ],
             [
              0.5555555555555556,
              "#d8576b"
             ],
             [
              0.6666666666666666,
              "#ed7953"
             ],
             [
              0.7777777777777778,
              "#fb9f3a"
             ],
             [
              0.8888888888888888,
              "#fdca26"
             ],
             [
              1,
              "#f0f921"
             ]
            ],
            "type": "heatmapgl"
           }
          ],
          "histogram": [
           {
            "marker": {
             "pattern": {
              "fillmode": "overlay",
              "size": 10,
              "solidity": 0.2
             }
            },
            "type": "histogram"
           }
          ],
          "histogram2d": [
           {
            "colorbar": {
             "outlinewidth": 0,
             "ticks": ""
            },
            "colorscale": [
             [
              0,
              "#0d0887"
             ],
             [
              0.1111111111111111,
              "#46039f"
             ],
             [
              0.2222222222222222,
              "#7201a8"
             ],
             [
              0.3333333333333333,
              "#9c179e"
             ],
             [
              0.4444444444444444,
              "#bd3786"
             ],
             [
              0.5555555555555556,
              "#d8576b"
             ],
             [
              0.6666666666666666,
              "#ed7953"
             ],
             [
              0.7777777777777778,
              "#fb9f3a"
             ],
             [
              0.8888888888888888,
              "#fdca26"
             ],
             [
              1,
              "#f0f921"
             ]
            ],
            "type": "histogram2d"
           }
          ],
          "histogram2dcontour": [
           {
            "colorbar": {
             "outlinewidth": 0,
             "ticks": ""
            },
            "colorscale": [
             [
              0,
              "#0d0887"
             ],
             [
              0.1111111111111111,
              "#46039f"
             ],
             [
              0.2222222222222222,
              "#7201a8"
             ],
             [
              0.3333333333333333,
              "#9c179e"
             ],
             [
              0.4444444444444444,
              "#bd3786"
             ],
             [
              0.5555555555555556,
              "#d8576b"
             ],
             [
              0.6666666666666666,
              "#ed7953"
             ],
             [
              0.7777777777777778,
              "#fb9f3a"
             ],
             [
              0.8888888888888888,
              "#fdca26"
             ],
             [
              1,
              "#f0f921"
             ]
            ],
            "type": "histogram2dcontour"
           }
          ],
          "mesh3d": [
           {
            "colorbar": {
             "outlinewidth": 0,
             "ticks": ""
            },
            "type": "mesh3d"
           }
          ],
          "parcoords": [
           {
            "line": {
             "colorbar": {
              "outlinewidth": 0,
              "ticks": ""
             }
            },
            "type": "parcoords"
           }
          ],
          "pie": [
           {
            "automargin": true,
            "type": "pie"
           }
          ],
          "scatter": [
           {
            "marker": {
             "colorbar": {
              "outlinewidth": 0,
              "ticks": ""
             }
            },
            "type": "scatter"
           }
          ],
          "scatter3d": [
           {
            "line": {
             "colorbar": {
              "outlinewidth": 0,
              "ticks": ""
             }
            },
            "marker": {
             "colorbar": {
              "outlinewidth": 0,
              "ticks": ""
             }
            },
            "type": "scatter3d"
           }
          ],
          "scattercarpet": [
           {
            "marker": {
             "colorbar": {
              "outlinewidth": 0,
              "ticks": ""
             }
            },
            "type": "scattercarpet"
           }
          ],
          "scattergeo": [
           {
            "marker": {
             "colorbar": {
              "outlinewidth": 0,
              "ticks": ""
             }
            },
            "type": "scattergeo"
           }
          ],
          "scattergl": [
           {
            "marker": {
             "colorbar": {
              "outlinewidth": 0,
              "ticks": ""
             }
            },
            "type": "scattergl"
           }
          ],
          "scattermapbox": [
           {
            "marker": {
             "colorbar": {
              "outlinewidth": 0,
              "ticks": ""
             }
            },
            "type": "scattermapbox"
           }
          ],
          "scatterpolar": [
           {
            "marker": {
             "colorbar": {
              "outlinewidth": 0,
              "ticks": ""
             }
            },
            "type": "scatterpolar"
           }
          ],
          "scatterpolargl": [
           {
            "marker": {
             "colorbar": {
              "outlinewidth": 0,
              "ticks": ""
             }
            },
            "type": "scatterpolargl"
           }
          ],
          "scatterternary": [
           {
            "marker": {
             "colorbar": {
              "outlinewidth": 0,
              "ticks": ""
             }
            },
            "type": "scatterternary"
           }
          ],
          "surface": [
           {
            "colorbar": {
             "outlinewidth": 0,
             "ticks": ""
            },
            "colorscale": [
             [
              0,
              "#0d0887"
             ],
             [
              0.1111111111111111,
              "#46039f"
             ],
             [
              0.2222222222222222,
              "#7201a8"
             ],
             [
              0.3333333333333333,
              "#9c179e"
             ],
             [
              0.4444444444444444,
              "#bd3786"
             ],
             [
              0.5555555555555556,
              "#d8576b"
             ],
             [
              0.6666666666666666,
              "#ed7953"
             ],
             [
              0.7777777777777778,
              "#fb9f3a"
             ],
             [
              0.8888888888888888,
              "#fdca26"
             ],
             [
              1,
              "#f0f921"
             ]
            ],
            "type": "surface"
           }
          ],
          "table": [
           {
            "cells": {
             "fill": {
              "color": "#EBF0F8"
             },
             "line": {
              "color": "white"
             }
            },
            "header": {
             "fill": {
              "color": "#C8D4E3"
             },
             "line": {
              "color": "white"
             }
            },
            "type": "table"
           }
          ]
         },
         "layout": {
          "annotationdefaults": {
           "arrowcolor": "#2a3f5f",
           "arrowhead": 0,
           "arrowwidth": 1
          },
          "autotypenumbers": "strict",
          "coloraxis": {
           "colorbar": {
            "outlinewidth": 0,
            "ticks": ""
           }
          },
          "colorscale": {
           "diverging": [
            [
             0,
             "#8e0152"
            ],
            [
             0.1,
             "#c51b7d"
            ],
            [
             0.2,
             "#de77ae"
            ],
            [
             0.3,
             "#f1b6da"
            ],
            [
             0.4,
             "#fde0ef"
            ],
            [
             0.5,
             "#f7f7f7"
            ],
            [
             0.6,
             "#e6f5d0"
            ],
            [
             0.7,
             "#b8e186"
            ],
            [
             0.8,
             "#7fbc41"
            ],
            [
             0.9,
             "#4d9221"
            ],
            [
             1,
             "#276419"
            ]
           ],
           "sequential": [
            [
             0,
             "#0d0887"
            ],
            [
             0.1111111111111111,
             "#46039f"
            ],
            [
             0.2222222222222222,
             "#7201a8"
            ],
            [
             0.3333333333333333,
             "#9c179e"
            ],
            [
             0.4444444444444444,
             "#bd3786"
            ],
            [
             0.5555555555555556,
             "#d8576b"
            ],
            [
             0.6666666666666666,
             "#ed7953"
            ],
            [
             0.7777777777777778,
             "#fb9f3a"
            ],
            [
             0.8888888888888888,
             "#fdca26"
            ],
            [
             1,
             "#f0f921"
            ]
           ],
           "sequentialminus": [
            [
             0,
             "#0d0887"
            ],
            [
             0.1111111111111111,
             "#46039f"
            ],
            [
             0.2222222222222222,
             "#7201a8"
            ],
            [
             0.3333333333333333,
             "#9c179e"
            ],
            [
             0.4444444444444444,
             "#bd3786"
            ],
            [
             0.5555555555555556,
             "#d8576b"
            ],
            [
             0.6666666666666666,
             "#ed7953"
            ],
            [
             0.7777777777777778,
             "#fb9f3a"
            ],
            [
             0.8888888888888888,
             "#fdca26"
            ],
            [
             1,
             "#f0f921"
            ]
           ]
          },
          "colorway": [
           "#636efa",
           "#EF553B",
           "#00cc96",
           "#ab63fa",
           "#FFA15A",
           "#19d3f3",
           "#FF6692",
           "#B6E880",
           "#FF97FF",
           "#FECB52"
          ],
          "font": {
           "color": "#2a3f5f"
          },
          "geo": {
           "bgcolor": "white",
           "lakecolor": "white",
           "landcolor": "#E5ECF6",
           "showlakes": true,
           "showland": true,
           "subunitcolor": "white"
          },
          "hoverlabel": {
           "align": "left"
          },
          "hovermode": "closest",
          "mapbox": {
           "style": "light"
          },
          "paper_bgcolor": "white",
          "plot_bgcolor": "#E5ECF6",
          "polar": {
           "angularaxis": {
            "gridcolor": "white",
            "linecolor": "white",
            "ticks": ""
           },
           "bgcolor": "#E5ECF6",
           "radialaxis": {
            "gridcolor": "white",
            "linecolor": "white",
            "ticks": ""
           }
          },
          "scene": {
           "xaxis": {
            "backgroundcolor": "#E5ECF6",
            "gridcolor": "white",
            "gridwidth": 2,
            "linecolor": "white",
            "showbackground": true,
            "ticks": "",
            "zerolinecolor": "white"
           },
           "yaxis": {
            "backgroundcolor": "#E5ECF6",
            "gridcolor": "white",
            "gridwidth": 2,
            "linecolor": "white",
            "showbackground": true,
            "ticks": "",
            "zerolinecolor": "white"
           },
           "zaxis": {
            "backgroundcolor": "#E5ECF6",
            "gridcolor": "white",
            "gridwidth": 2,
            "linecolor": "white",
            "showbackground": true,
            "ticks": "",
            "zerolinecolor": "white"
           }
          },
          "shapedefaults": {
           "line": {
            "color": "#2a3f5f"
           }
          },
          "ternary": {
           "aaxis": {
            "gridcolor": "white",
            "linecolor": "white",
            "ticks": ""
           },
           "baxis": {
            "gridcolor": "white",
            "linecolor": "white",
            "ticks": ""
           },
           "bgcolor": "#E5ECF6",
           "caxis": {
            "gridcolor": "white",
            "linecolor": "white",
            "ticks": ""
           }
          },
          "title": {
           "x": 0.05
          },
          "xaxis": {
           "automargin": true,
           "gridcolor": "white",
           "linecolor": "white",
           "ticks": "",
           "title": {
            "standoff": 15
           },
           "zerolinecolor": "white",
           "zerolinewidth": 2
          },
          "yaxis": {
           "automargin": true,
           "gridcolor": "white",
           "linecolor": "white",
           "ticks": "",
           "title": {
            "standoff": 15
           },
           "zerolinecolor": "white",
           "zerolinewidth": 2
          }
         }
        }
       }
      },
      "text/html": [
       "<div>                            <div id=\"e7656101-7ccc-416c-8b2f-90f930ffa20a\" class=\"plotly-graph-div\" style=\"height:525px; width:100%;\"></div>            <script type=\"text/javascript\">                require([\"plotly\"], function(Plotly) {                    window.PLOTLYENV=window.PLOTLYENV || {};                                    if (document.getElementById(\"e7656101-7ccc-416c-8b2f-90f930ffa20a\")) {                    Plotly.newPlot(                        \"e7656101-7ccc-416c-8b2f-90f930ffa20a\",                        [{\"hovertemplate\":\"<b>%{hovertext}</b><br><br>album=Whatever People Say I Am, That's What I'm Not<br>danceability=%{x}<br>energy=%{y}<br>mood=%{z}<extra></extra>\",\"hovertext\":[\"The View From The Afternoon\",\"I Bet You Look Good On The Dancefloor\",\"Fake Tales Of San Francisco\",\"Dancing Shoes\",\"You Probably Couldn't See For The Lights But You Were Staring Straight At Me\",\"Still Take You Home\",\"Riot Van\",\"Red Light Indicates Doors Are Secured\",\"Mardy Bum\",\"Perhaps Vampires Is A Bit Strong But\\u2026\",\"When The Sun Goes Down\",\"From The Ritz To The Rubble\",\"A Certain Romance\"],\"legendgroup\":\"Whatever People Say I Am, That's What I'm Not\",\"marker\":{\"color\":\"#636efa\",\"symbol\":\"circle\"},\"mode\":\"markers\",\"name\":\"Whatever People Say I Am, That's What I'm Not\",\"scene\":\"scene\",\"showlegend\":true,\"x\":[0.387,0.535,0.454,0.522,0.58,0.599,0.593,0.622,0.634,0.371,0.348,0.216,0.455],\"y\":[0.922,0.948,0.778,0.889,0.972,0.946,0.333,0.846,0.599,0.914,0.875,0.882,0.881],\"z\":[0.417,0.778,0.704,0.852,0.926,0.653,0.258,0.914,0.312,0.394,0.407,0.656,0.201],\"type\":\"scatter3d\"},{\"hovertemplate\":\"<b>%{hovertext}</b><br><br>album=Favourite Worst Nightmare<br>danceability=%{x}<br>energy=%{y}<br>mood=%{z}<extra></extra>\",\"hovertext\":[\"Brianstorm\",\"Teddy Picker\",\"D is for Dangerous\",\"Balaclava\",\"Fluorescent Adolescent\",\"Only Ones Who Know\",\"Do Me a Favour\",\"This House is a Circus\",\"If You Were There, Beware\",\"The Bad Thing\",\"Old Yellow Bricks\",\"505\"],\"legendgroup\":\"Favourite Worst Nightmare\",\"marker\":{\"color\":\"#EF553B\",\"symbol\":\"circle\"},\"mode\":\"markers\",\"name\":\"Favourite Worst Nightmare\",\"scene\":\"scene\",\"showlegend\":true,\"x\":[0.42,0.637,0.555,0.414,0.654,0.29,0.469,0.476,0.328,0.55,0.66,0.526],\"y\":[0.974,0.963,0.925,0.811,0.828,0.399,0.738,0.844,0.805,0.952,0.837,0.866],\"z\":[0.463,0.823,0.77,0.762,0.79,0.0965,0.624,0.658,0.264,0.538,0.757,0.248],\"type\":\"scatter3d\"},{\"hovertemplate\":\"<b>%{hovertext}</b><br><br>album=Humbug<br>danceability=%{x}<br>energy=%{y}<br>mood=%{z}<extra></extra>\",\"hovertext\":[\"My Propeller\",\"Crying Lightning\",\"Dangerous Animals\",\"Secret Door\",\"Potion Approaching\",\"Fire And The Thud\",\"Cornerstone\",\"Dance Little Liar\",\"Pretty Visitors\",\"The Jeweller's Hands\"],\"legendgroup\":\"Humbug\",\"marker\":{\"color\":\"#00cc96\",\"symbol\":\"circle\"},\"mode\":\"markers\",\"name\":\"Humbug\",\"scene\":\"scene\",\"showlegend\":true,\"x\":[0.415,0.498,0.34,0.323,0.421,0.566,0.287,0.538,0.244,0.51],\"y\":[0.657,0.885,0.922,0.806,0.758,0.61,0.721,0.607,0.896,0.8],\"z\":[0.69,0.67,0.532,0.548,0.767,0.406,0.763,0.543,0.142,0.391],\"type\":\"scatter3d\"},{\"hovertemplate\":\"<b>%{hovertext}</b><br><br>album=Suck It and See<br>danceability=%{x}<br>energy=%{y}<br>mood=%{z}<extra></extra>\",\"hovertext\":[\"She's Thunderstorms\",\"Black Treacle\",\"Brick By Brick\",\"The Hellcat Spangled Shalalala\",\"Don't Sit Down 'Cause I've Moved Your Chair\",\"Library Pictures\",\"All My Own Stunts\",\"Reckless Serenade\",\"Piledriver Waltz\",\"Love is a Laserquest\",\"Suck It and See\",\"That's Where You're Wrong\"],\"legendgroup\":\"Suck It and See\",\"marker\":{\"color\":\"#ab63fa\",\"symbol\":\"circle\"},\"mode\":\"markers\",\"name\":\"Suck It and See\",\"scene\":\"scene\",\"showlegend\":true,\"x\":[0.505,0.343,0.285,0.449,0.434,0.304,0.511,0.585,0.443,0.349,0.339,0.481],\"y\":[0.898,0.89,0.807,0.872,0.912,0.939,0.943,0.694,0.865,0.662,0.932,0.883],\"z\":[0.731,0.525,0.542,0.788,0.315,0.402,0.531,0.785,0.474,0.554,0.586,0.46],\"type\":\"scatter3d\"},{\"hovertemplate\":\"<b>%{hovertext}</b><br><br>album=AM<br>danceability=%{x}<br>energy=%{y}<br>mood=%{z}<extra></extra>\",\"hovertext\":[\"Do I Wanna Know?\",\"R U Mine?\",\"One For The Road\",\"Arabella\",\"I Want It All\",\"No. 1 Party Anthem\",\"Mad Sounds\",\"Fireside\",\"Why'd You Only Call Me When You're High?\",\"Snap Out Of It\",\"Knee Socks\",\"I Wanna Be Yours\"],\"legendgroup\":\"AM\",\"marker\":{\"color\":\"#FFA15A\",\"symbol\":\"circle\"},\"mode\":\"markers\",\"name\":\"AM\",\"scene\":\"scene\",\"showlegend\":true,\"x\":[0.548,0.288,0.415,0.579,0.499,0.505,0.532,0.538,0.691,0.728,0.665,0.464],\"y\":[0.532,0.758,0.668,0.558,0.81,0.698,0.462,0.953,0.631,0.638,0.542,0.417],\"z\":[0.405,0.619,0.842,0.506,0.288,0.599,0.485,0.74,0.8,0.872,0.587,0.479],\"type\":\"scatter3d\"},{\"hovertemplate\":\"<b>%{hovertext}</b><br><br>album=Tranquility Base Hotel & Casino<br>danceability=%{x}<br>energy=%{y}<br>mood=%{z}<extra></extra>\",\"hovertext\":[\"Star Treatment\",\"One Point Perspective\",\"American Sports\",\"Tranquility Base Hotel & Casino\",\"Golden Trunks\",\"Four Out Of Five\",\"The World's First Ever Monster Truck Front Flip\",\"Science Fiction\",\"She Looks Like Fun\",\"Batphone\",\"The Ultracheese\"],\"legendgroup\":\"Tranquility Base Hotel & Casino\",\"marker\":{\"color\":\"#19d3f3\",\"symbol\":\"circle\"},\"mode\":\"markers\",\"name\":\"Tranquility Base Hotel & Casino\",\"scene\":\"scene\",\"showlegend\":true,\"x\":[0.581,0.714,0.372,0.584,0.492,0.601,0.602,0.542,0.514,0.675,0.476],\"y\":[0.767,0.585,0.865,0.835,0.564,0.863,0.601,0.766,0.773,0.681,0.555],\"z\":[0.673,0.842,0.594,0.781,0.0896,0.676,0.553,0.643,0.445,0.675,0.426],\"type\":\"scatter3d\"},{\"hovertemplate\":\"<b>%{hovertext}</b><br><br>album=The Car<br>danceability=%{x}<br>energy=%{y}<br>mood=%{z}<extra></extra>\",\"hovertext\":[\"There\\u2019d Better Be A Mirrorball\",\"I Ain\\u2019t Quite Where I Think I Am\",\"Sculptures Of Anything Goes\",\"Jet Skis On The Moat\",\"Body Paint\",\"The Car\",\"Big Ideas\",\"Hello You\",\"Mr Schwartz\",\"Perfect Sense\"],\"legendgroup\":\"The Car\",\"marker\":{\"color\":\"#FF6692\",\"symbol\":\"circle\"},\"mode\":\"markers\",\"name\":\"The Car\",\"scene\":\"scene\",\"showlegend\":true,\"x\":[0.521,0.544,0.591,0.651,0.556,0.428,0.548,0.394,0.569,0.52],\"y\":[0.365,0.337,0.309,0.244,0.315,0.365,0.328,0.452,0.335,0.478],\"z\":[0.324,0.667,0.257,0.395,0.256,0.236,0.343,0.653,0.388,0.545],\"type\":\"scatter3d\"}],                        {\"template\":{\"data\":{\"bar\":[{\"error_x\":{\"color\":\"#2a3f5f\"},\"error_y\":{\"color\":\"#2a3f5f\"},\"marker\":{\"line\":{\"color\":\"#E5ECF6\",\"width\":0.5},\"pattern\":{\"fillmode\":\"overlay\",\"size\":10,\"solidity\":0.2}},\"type\":\"bar\"}],\"barpolar\":[{\"marker\":{\"line\":{\"color\":\"#E5ECF6\",\"width\":0.5},\"pattern\":{\"fillmode\":\"overlay\",\"size\":10,\"solidity\":0.2}},\"type\":\"barpolar\"}],\"carpet\":[{\"aaxis\":{\"endlinecolor\":\"#2a3f5f\",\"gridcolor\":\"white\",\"linecolor\":\"white\",\"minorgridcolor\":\"white\",\"startlinecolor\":\"#2a3f5f\"},\"baxis\":{\"endlinecolor\":\"#2a3f5f\",\"gridcolor\":\"white\",\"linecolor\":\"white\",\"minorgridcolor\":\"white\",\"startlinecolor\":\"#2a3f5f\"},\"type\":\"carpet\"}],\"choropleth\":[{\"colorbar\":{\"outlinewidth\":0,\"ticks\":\"\"},\"type\":\"choropleth\"}],\"contour\":[{\"colorbar\":{\"outlinewidth\":0,\"ticks\":\"\"},\"colorscale\":[[0.0,\"#0d0887\"],[0.1111111111111111,\"#46039f\"],[0.2222222222222222,\"#7201a8\"],[0.3333333333333333,\"#9c179e\"],[0.4444444444444444,\"#bd3786\"],[0.5555555555555556,\"#d8576b\"],[0.6666666666666666,\"#ed7953\"],[0.7777777777777778,\"#fb9f3a\"],[0.8888888888888888,\"#fdca26\"],[1.0,\"#f0f921\"]],\"type\":\"contour\"}],\"contourcarpet\":[{\"colorbar\":{\"outlinewidth\":0,\"ticks\":\"\"},\"type\":\"contourcarpet\"}],\"heatmap\":[{\"colorbar\":{\"outlinewidth\":0,\"ticks\":\"\"},\"colorscale\":[[0.0,\"#0d0887\"],[0.1111111111111111,\"#46039f\"],[0.2222222222222222,\"#7201a8\"],[0.3333333333333333,\"#9c179e\"],[0.4444444444444444,\"#bd3786\"],[0.5555555555555556,\"#d8576b\"],[0.6666666666666666,\"#ed7953\"],[0.7777777777777778,\"#fb9f3a\"],[0.8888888888888888,\"#fdca26\"],[1.0,\"#f0f921\"]],\"type\":\"heatmap\"}],\"heatmapgl\":[{\"colorbar\":{\"outlinewidth\":0,\"ticks\":\"\"},\"colorscale\":[[0.0,\"#0d0887\"],[0.1111111111111111,\"#46039f\"],[0.2222222222222222,\"#7201a8\"],[0.3333333333333333,\"#9c179e\"],[0.4444444444444444,\"#bd3786\"],[0.5555555555555556,\"#d8576b\"],[0.6666666666666666,\"#ed7953\"],[0.7777777777777778,\"#fb9f3a\"],[0.8888888888888888,\"#fdca26\"],[1.0,\"#f0f921\"]],\"type\":\"heatmapgl\"}],\"histogram\":[{\"marker\":{\"pattern\":{\"fillmode\":\"overlay\",\"size\":10,\"solidity\":0.2}},\"type\":\"histogram\"}],\"histogram2d\":[{\"colorbar\":{\"outlinewidth\":0,\"ticks\":\"\"},\"colorscale\":[[0.0,\"#0d0887\"],[0.1111111111111111,\"#46039f\"],[0.2222222222222222,\"#7201a8\"],[0.3333333333333333,\"#9c179e\"],[0.4444444444444444,\"#bd3786\"],[0.5555555555555556,\"#d8576b\"],[0.6666666666666666,\"#ed7953\"],[0.7777777777777778,\"#fb9f3a\"],[0.8888888888888888,\"#fdca26\"],[1.0,\"#f0f921\"]],\"type\":\"histogram2d\"}],\"histogram2dcontour\":[{\"colorbar\":{\"outlinewidth\":0,\"ticks\":\"\"},\"colorscale\":[[0.0,\"#0d0887\"],[0.1111111111111111,\"#46039f\"],[0.2222222222222222,\"#7201a8\"],[0.3333333333333333,\"#9c179e\"],[0.4444444444444444,\"#bd3786\"],[0.5555555555555556,\"#d8576b\"],[0.6666666666666666,\"#ed7953\"],[0.7777777777777778,\"#fb9f3a\"],[0.8888888888888888,\"#fdca26\"],[1.0,\"#f0f921\"]],\"type\":\"histogram2dcontour\"}],\"mesh3d\":[{\"colorbar\":{\"outlinewidth\":0,\"ticks\":\"\"},\"type\":\"mesh3d\"}],\"parcoords\":[{\"line\":{\"colorbar\":{\"outlinewidth\":0,\"ticks\":\"\"}},\"type\":\"parcoords\"}],\"pie\":[{\"automargin\":true,\"type\":\"pie\"}],\"scatter\":[{\"marker\":{\"colorbar\":{\"outlinewidth\":0,\"ticks\":\"\"}},\"type\":\"scatter\"}],\"scatter3d\":[{\"line\":{\"colorbar\":{\"outlinewidth\":0,\"ticks\":\"\"}},\"marker\":{\"colorbar\":{\"outlinewidth\":0,\"ticks\":\"\"}},\"type\":\"scatter3d\"}],\"scattercarpet\":[{\"marker\":{\"colorbar\":{\"outlinewidth\":0,\"ticks\":\"\"}},\"type\":\"scattercarpet\"}],\"scattergeo\":[{\"marker\":{\"colorbar\":{\"outlinewidth\":0,\"ticks\":\"\"}},\"type\":\"scattergeo\"}],\"scattergl\":[{\"marker\":{\"colorbar\":{\"outlinewidth\":0,\"ticks\":\"\"}},\"type\":\"scattergl\"}],\"scattermapbox\":[{\"marker\":{\"colorbar\":{\"outlinewidth\":0,\"ticks\":\"\"}},\"type\":\"scattermapbox\"}],\"scatterpolar\":[{\"marker\":{\"colorbar\":{\"outlinewidth\":0,\"ticks\":\"\"}},\"type\":\"scatterpolar\"}],\"scatterpolargl\":[{\"marker\":{\"colorbar\":{\"outlinewidth\":0,\"ticks\":\"\"}},\"type\":\"scatterpolargl\"}],\"scatterternary\":[{\"marker\":{\"colorbar\":{\"outlinewidth\":0,\"ticks\":\"\"}},\"type\":\"scatterternary\"}],\"surface\":[{\"colorbar\":{\"outlinewidth\":0,\"ticks\":\"\"},\"colorscale\":[[0.0,\"#0d0887\"],[0.1111111111111111,\"#46039f\"],[0.2222222222222222,\"#7201a8\"],[0.3333333333333333,\"#9c179e\"],[0.4444444444444444,\"#bd3786\"],[0.5555555555555556,\"#d8576b\"],[0.6666666666666666,\"#ed7953\"],[0.7777777777777778,\"#fb9f3a\"],[0.8888888888888888,\"#fdca26\"],[1.0,\"#f0f921\"]],\"type\":\"surface\"}],\"table\":[{\"cells\":{\"fill\":{\"color\":\"#EBF0F8\"},\"line\":{\"color\":\"white\"}},\"header\":{\"fill\":{\"color\":\"#C8D4E3\"},\"line\":{\"color\":\"white\"}},\"type\":\"table\"}]},\"layout\":{\"annotationdefaults\":{\"arrowcolor\":\"#2a3f5f\",\"arrowhead\":0,\"arrowwidth\":1},\"autotypenumbers\":\"strict\",\"coloraxis\":{\"colorbar\":{\"outlinewidth\":0,\"ticks\":\"\"}},\"colorscale\":{\"diverging\":[[0,\"#8e0152\"],[0.1,\"#c51b7d\"],[0.2,\"#de77ae\"],[0.3,\"#f1b6da\"],[0.4,\"#fde0ef\"],[0.5,\"#f7f7f7\"],[0.6,\"#e6f5d0\"],[0.7,\"#b8e186\"],[0.8,\"#7fbc41\"],[0.9,\"#4d9221\"],[1,\"#276419\"]],\"sequential\":[[0.0,\"#0d0887\"],[0.1111111111111111,\"#46039f\"],[0.2222222222222222,\"#7201a8\"],[0.3333333333333333,\"#9c179e\"],[0.4444444444444444,\"#bd3786\"],[0.5555555555555556,\"#d8576b\"],[0.6666666666666666,\"#ed7953\"],[0.7777777777777778,\"#fb9f3a\"],[0.8888888888888888,\"#fdca26\"],[1.0,\"#f0f921\"]],\"sequentialminus\":[[0.0,\"#0d0887\"],[0.1111111111111111,\"#46039f\"],[0.2222222222222222,\"#7201a8\"],[0.3333333333333333,\"#9c179e\"],[0.4444444444444444,\"#bd3786\"],[0.5555555555555556,\"#d8576b\"],[0.6666666666666666,\"#ed7953\"],[0.7777777777777778,\"#fb9f3a\"],[0.8888888888888888,\"#fdca26\"],[1.0,\"#f0f921\"]]},\"colorway\":[\"#636efa\",\"#EF553B\",\"#00cc96\",\"#ab63fa\",\"#FFA15A\",\"#19d3f3\",\"#FF6692\",\"#B6E880\",\"#FF97FF\",\"#FECB52\"],\"font\":{\"color\":\"#2a3f5f\"},\"geo\":{\"bgcolor\":\"white\",\"lakecolor\":\"white\",\"landcolor\":\"#E5ECF6\",\"showlakes\":true,\"showland\":true,\"subunitcolor\":\"white\"},\"hoverlabel\":{\"align\":\"left\"},\"hovermode\":\"closest\",\"mapbox\":{\"style\":\"light\"},\"paper_bgcolor\":\"white\",\"plot_bgcolor\":\"#E5ECF6\",\"polar\":{\"angularaxis\":{\"gridcolor\":\"white\",\"linecolor\":\"white\",\"ticks\":\"\"},\"bgcolor\":\"#E5ECF6\",\"radialaxis\":{\"gridcolor\":\"white\",\"linecolor\":\"white\",\"ticks\":\"\"}},\"scene\":{\"xaxis\":{\"backgroundcolor\":\"#E5ECF6\",\"gridcolor\":\"white\",\"gridwidth\":2,\"linecolor\":\"white\",\"showbackground\":true,\"ticks\":\"\",\"zerolinecolor\":\"white\"},\"yaxis\":{\"backgroundcolor\":\"#E5ECF6\",\"gridcolor\":\"white\",\"gridwidth\":2,\"linecolor\":\"white\",\"showbackground\":true,\"ticks\":\"\",\"zerolinecolor\":\"white\"},\"zaxis\":{\"backgroundcolor\":\"#E5ECF6\",\"gridcolor\":\"white\",\"gridwidth\":2,\"linecolor\":\"white\",\"showbackground\":true,\"ticks\":\"\",\"zerolinecolor\":\"white\"}},\"shapedefaults\":{\"line\":{\"color\":\"#2a3f5f\"}},\"ternary\":{\"aaxis\":{\"gridcolor\":\"white\",\"linecolor\":\"white\",\"ticks\":\"\"},\"baxis\":{\"gridcolor\":\"white\",\"linecolor\":\"white\",\"ticks\":\"\"},\"bgcolor\":\"#E5ECF6\",\"caxis\":{\"gridcolor\":\"white\",\"linecolor\":\"white\",\"ticks\":\"\"}},\"title\":{\"x\":0.05},\"xaxis\":{\"automargin\":true,\"gridcolor\":\"white\",\"linecolor\":\"white\",\"ticks\":\"\",\"title\":{\"standoff\":15},\"zerolinecolor\":\"white\",\"zerolinewidth\":2},\"yaxis\":{\"automargin\":true,\"gridcolor\":\"white\",\"linecolor\":\"white\",\"ticks\":\"\",\"title\":{\"standoff\":15},\"zerolinecolor\":\"white\",\"zerolinewidth\":2}}},\"scene\":{\"domain\":{\"x\":[0.0,1.0],\"y\":[0.0,1.0]},\"xaxis\":{\"title\":{\"text\":\"danceability\"}},\"yaxis\":{\"title\":{\"text\":\"energy\"}},\"zaxis\":{\"title\":{\"text\":\"mood\"}}},\"legend\":{\"title\":{\"text\":\"album\"},\"tracegroupgap\":0},\"margin\":{\"t\":60}},                        {\"responsive\": true}                    ).then(function(){\n",
       "                            \n",
       "var gd = document.getElementById('e7656101-7ccc-416c-8b2f-90f930ffa20a');\n",
       "var x = new MutationObserver(function (mutations, observer) {{\n",
       "        var display = window.getComputedStyle(gd).display;\n",
       "        if (!display || display === 'none') {{\n",
       "            console.log([gd, 'removed!']);\n",
       "            Plotly.purge(gd);\n",
       "            observer.disconnect();\n",
       "        }}\n",
       "}});\n",
       "\n",
       "// Listen for the removal of the full notebook cells\n",
       "var notebookContainer = gd.closest('#notebook-container');\n",
       "if (notebookContainer) {{\n",
       "    x.observe(notebookContainer, {childList: true});\n",
       "}}\n",
       "\n",
       "// Listen for the clearing of the current output cell\n",
       "var outputEl = gd.closest('.output');\n",
       "if (outputEl) {{\n",
       "    x.observe(outputEl, {childList: true});\n",
       "}}\n",
       "\n",
       "                        })                };                });            </script>        </div>"
      ]
     },
     "metadata": {},
     "output_type": "display_data"
    }
   ],
   "source": [
    "df2 = df2.rename(columns={'valence':'mood'})\n",
    "import plotly.express as px\n",
    "\n",
    "fig = px.scatter_3d(df2, x='danceability', y='energy', z='mood',\n",
    "              color='album', hover_name='name')\n",
    "fig.show()"
   ]
  },
  {
   "cell_type": "code",
   "execution_count": 56,
   "metadata": {},
   "outputs": [
    {
     "data": {
      "text/html": [
       "<div>\n",
       "<style scoped>\n",
       "    .dataframe tbody tr th:only-of-type {\n",
       "        vertical-align: middle;\n",
       "    }\n",
       "\n",
       "    .dataframe tbody tr th {\n",
       "        vertical-align: top;\n",
       "    }\n",
       "\n",
       "    .dataframe thead th {\n",
       "        text-align: right;\n",
       "    }\n",
       "</style>\n",
       "<table border=\"1\" class=\"dataframe\">\n",
       "  <thead>\n",
       "    <tr style=\"text-align: right;\">\n",
       "      <th></th>\n",
       "      <th>track_number</th>\n",
       "      <th>name</th>\n",
       "      <th>id</th>\n",
       "      <th>album</th>\n",
       "      <th>danceability</th>\n",
       "      <th>energy</th>\n",
       "      <th>mood</th>\n",
       "      <th>mode</th>\n",
       "      <th>tempo</th>\n",
       "      <th>key</th>\n",
       "    </tr>\n",
       "  </thead>\n",
       "  <tbody>\n",
       "    <tr>\n",
       "      <th>11</th>\n",
       "      <td>12</td>\n",
       "      <td>From The Ritz To The Rubble</td>\n",
       "      <td>2vQQfWTanvD99OeHLAoyhW</td>\n",
       "      <td>Whatever People Say I Am, That's What I'm Not</td>\n",
       "      <td>0.216</td>\n",
       "      <td>0.882</td>\n",
       "      <td>0.656</td>\n",
       "      <td>0.0</td>\n",
       "      <td>189.286</td>\n",
       "      <td>11.0</td>\n",
       "    </tr>\n",
       "    <tr>\n",
       "      <th>33</th>\n",
       "      <td>9</td>\n",
       "      <td>Pretty Visitors</td>\n",
       "      <td>45n7uujqwmMyBMjBu9SwRu</td>\n",
       "      <td>Humbug</td>\n",
       "      <td>0.244</td>\n",
       "      <td>0.896</td>\n",
       "      <td>0.142</td>\n",
       "      <td>0.0</td>\n",
       "      <td>83.354</td>\n",
       "      <td>6.0</td>\n",
       "    </tr>\n",
       "    <tr>\n",
       "      <th>37</th>\n",
       "      <td>3</td>\n",
       "      <td>Brick By Brick</td>\n",
       "      <td>49HYB8tppaxOsbBfeozPxu</td>\n",
       "      <td>Suck It and See</td>\n",
       "      <td>0.285</td>\n",
       "      <td>0.807</td>\n",
       "      <td>0.542</td>\n",
       "      <td>1.0</td>\n",
       "      <td>132.206</td>\n",
       "      <td>2.0</td>\n",
       "    </tr>\n",
       "    <tr>\n",
       "      <th>31</th>\n",
       "      <td>7</td>\n",
       "      <td>Cornerstone</td>\n",
       "      <td>5bsnLiT00hG37qd8p2jdVl</td>\n",
       "      <td>Humbug</td>\n",
       "      <td>0.287</td>\n",
       "      <td>0.721</td>\n",
       "      <td>0.763</td>\n",
       "      <td>1.0</td>\n",
       "      <td>169.252</td>\n",
       "      <td>9.0</td>\n",
       "    </tr>\n",
       "    <tr>\n",
       "      <th>48</th>\n",
       "      <td>2</td>\n",
       "      <td>R U Mine?</td>\n",
       "      <td>2AT8iROs4FQueDv2c8q2KE</td>\n",
       "      <td>AM</td>\n",
       "      <td>0.288</td>\n",
       "      <td>0.758</td>\n",
       "      <td>0.619</td>\n",
       "      <td>0.0</td>\n",
       "      <td>97.094</td>\n",
       "      <td>6.0</td>\n",
       "    </tr>\n",
       "    <tr>\n",
       "      <th>...</th>\n",
       "      <td>...</td>\n",
       "      <td>...</td>\n",
       "      <td>...</td>\n",
       "      <td>...</td>\n",
       "      <td>...</td>\n",
       "      <td>...</td>\n",
       "      <td>...</td>\n",
       "      <td>...</td>\n",
       "      <td>...</td>\n",
       "      <td>...</td>\n",
       "    </tr>\n",
       "    <tr>\n",
       "      <th>57</th>\n",
       "      <td>11</td>\n",
       "      <td>Knee Socks</td>\n",
       "      <td>2LGdO5MtFdyphi2EihANZG</td>\n",
       "      <td>AM</td>\n",
       "      <td>0.665</td>\n",
       "      <td>0.542</td>\n",
       "      <td>0.587</td>\n",
       "      <td>0.0</td>\n",
       "      <td>97.975</td>\n",
       "      <td>11.0</td>\n",
       "    </tr>\n",
       "    <tr>\n",
       "      <th>68</th>\n",
       "      <td>10</td>\n",
       "      <td>Batphone</td>\n",
       "      <td>7aiKdAM9WYW3GzWSA9OXIl</td>\n",
       "      <td>Tranquility Base Hotel &amp; Casino</td>\n",
       "      <td>0.675</td>\n",
       "      <td>0.681</td>\n",
       "      <td>0.675</td>\n",
       "      <td>0.0</td>\n",
       "      <td>106.521</td>\n",
       "      <td>5.0</td>\n",
       "    </tr>\n",
       "    <tr>\n",
       "      <th>55</th>\n",
       "      <td>9</td>\n",
       "      <td>Why'd You Only Call Me When You're High?</td>\n",
       "      <td>086myS9r57YsLbJpU0TgK9</td>\n",
       "      <td>AM</td>\n",
       "      <td>0.691</td>\n",
       "      <td>0.631</td>\n",
       "      <td>0.800</td>\n",
       "      <td>1.0</td>\n",
       "      <td>92.004</td>\n",
       "      <td>2.0</td>\n",
       "    </tr>\n",
       "    <tr>\n",
       "      <th>60</th>\n",
       "      <td>2</td>\n",
       "      <td>One Point Perspective</td>\n",
       "      <td>1t67WYNfUxfOiwaz7SJ66b</td>\n",
       "      <td>Tranquility Base Hotel &amp; Casino</td>\n",
       "      <td>0.714</td>\n",
       "      <td>0.585</td>\n",
       "      <td>0.842</td>\n",
       "      <td>1.0</td>\n",
       "      <td>77.104</td>\n",
       "      <td>8.0</td>\n",
       "    </tr>\n",
       "    <tr>\n",
       "      <th>56</th>\n",
       "      <td>10</td>\n",
       "      <td>Snap Out Of It</td>\n",
       "      <td>0NdTUS4UiNYCNn5FgVqKQY</td>\n",
       "      <td>AM</td>\n",
       "      <td>0.728</td>\n",
       "      <td>0.638</td>\n",
       "      <td>0.872</td>\n",
       "      <td>0.0</td>\n",
       "      <td>130.014</td>\n",
       "      <td>5.0</td>\n",
       "    </tr>\n",
       "  </tbody>\n",
       "</table>\n",
       "<p>80 rows × 10 columns</p>\n",
       "</div>"
      ],
      "text/plain": [
       "   track_number                                      name  \\\n",
       "11           12               From The Ritz To The Rubble   \n",
       "33            9                           Pretty Visitors   \n",
       "37            3                            Brick By Brick   \n",
       "31            7                               Cornerstone   \n",
       "48            2                                 R U Mine?   \n",
       "..          ...                                       ...   \n",
       "57           11                                Knee Socks   \n",
       "68           10                                  Batphone   \n",
       "55            9  Why'd You Only Call Me When You're High?   \n",
       "60            2                     One Point Perspective   \n",
       "56           10                            Snap Out Of It   \n",
       "\n",
       "                        id                                          album  \\\n",
       "11  2vQQfWTanvD99OeHLAoyhW  Whatever People Say I Am, That's What I'm Not   \n",
       "33  45n7uujqwmMyBMjBu9SwRu                                         Humbug   \n",
       "37  49HYB8tppaxOsbBfeozPxu                                Suck It and See   \n",
       "31  5bsnLiT00hG37qd8p2jdVl                                         Humbug   \n",
       "48  2AT8iROs4FQueDv2c8q2KE                                             AM   \n",
       "..                     ...                                            ...   \n",
       "57  2LGdO5MtFdyphi2EihANZG                                             AM   \n",
       "68  7aiKdAM9WYW3GzWSA9OXIl                Tranquility Base Hotel & Casino   \n",
       "55  086myS9r57YsLbJpU0TgK9                                             AM   \n",
       "60  1t67WYNfUxfOiwaz7SJ66b                Tranquility Base Hotel & Casino   \n",
       "56  0NdTUS4UiNYCNn5FgVqKQY                                             AM   \n",
       "\n",
       "    danceability  energy   mood  mode    tempo   key  \n",
       "11         0.216   0.882  0.656   0.0  189.286  11.0  \n",
       "33         0.244   0.896  0.142   0.0   83.354   6.0  \n",
       "37         0.285   0.807  0.542   1.0  132.206   2.0  \n",
       "31         0.287   0.721  0.763   1.0  169.252   9.0  \n",
       "48         0.288   0.758  0.619   0.0   97.094   6.0  \n",
       "..           ...     ...    ...   ...      ...   ...  \n",
       "57         0.665   0.542  0.587   0.0   97.975  11.0  \n",
       "68         0.675   0.681  0.675   0.0  106.521   5.0  \n",
       "55         0.691   0.631  0.800   1.0   92.004   2.0  \n",
       "60         0.714   0.585  0.842   1.0   77.104   8.0  \n",
       "56         0.728   0.638  0.872   0.0  130.014   5.0  \n",
       "\n",
       "[80 rows x 10 columns]"
      ]
     },
     "execution_count": 56,
     "metadata": {},
     "output_type": "execute_result"
    }
   ],
   "source": [
    "df2.sort_values('danceability')"
   ]
  },
  {
   "cell_type": "code",
   "execution_count": 57,
   "metadata": {},
   "outputs": [
    {
     "data": {
      "text/html": [
       "<div>\n",
       "<style scoped>\n",
       "    .dataframe tbody tr th:only-of-type {\n",
       "        vertical-align: middle;\n",
       "    }\n",
       "\n",
       "    .dataframe tbody tr th {\n",
       "        vertical-align: top;\n",
       "    }\n",
       "\n",
       "    .dataframe thead th {\n",
       "        text-align: right;\n",
       "    }\n",
       "</style>\n",
       "<table border=\"1\" class=\"dataframe\">\n",
       "  <thead>\n",
       "    <tr style=\"text-align: right;\">\n",
       "      <th></th>\n",
       "      <th>track_number</th>\n",
       "      <th>name</th>\n",
       "      <th>id</th>\n",
       "      <th>album</th>\n",
       "      <th>danceability</th>\n",
       "      <th>energy</th>\n",
       "      <th>mood</th>\n",
       "      <th>mode</th>\n",
       "      <th>tempo</th>\n",
       "      <th>key</th>\n",
       "    </tr>\n",
       "  </thead>\n",
       "  <tbody>\n",
       "    <tr>\n",
       "      <th>73</th>\n",
       "      <td>4</td>\n",
       "      <td>Jet Skis On The Moat</td>\n",
       "      <td>6WoYIBgGZTI5vkfUaoVdhS</td>\n",
       "      <td>The Car</td>\n",
       "      <td>0.651</td>\n",
       "      <td>0.244</td>\n",
       "      <td>0.395</td>\n",
       "      <td>1.0</td>\n",
       "      <td>149.759</td>\n",
       "      <td>7.0</td>\n",
       "    </tr>\n",
       "    <tr>\n",
       "      <th>72</th>\n",
       "      <td>3</td>\n",
       "      <td>Sculptures Of Anything Goes</td>\n",
       "      <td>77mMSHbgFDTnVJ4xPIYUwo</td>\n",
       "      <td>The Car</td>\n",
       "      <td>0.591</td>\n",
       "      <td>0.309</td>\n",
       "      <td>0.257</td>\n",
       "      <td>0.0</td>\n",
       "      <td>71.573</td>\n",
       "      <td>4.0</td>\n",
       "    </tr>\n",
       "    <tr>\n",
       "      <th>74</th>\n",
       "      <td>5</td>\n",
       "      <td>Body Paint</td>\n",
       "      <td>4Y9M5mNB71lX6RSpIu5Dk6</td>\n",
       "      <td>The Car</td>\n",
       "      <td>0.556</td>\n",
       "      <td>0.315</td>\n",
       "      <td>0.256</td>\n",
       "      <td>0.0</td>\n",
       "      <td>143.327</td>\n",
       "      <td>7.0</td>\n",
       "    </tr>\n",
       "    <tr>\n",
       "      <th>76</th>\n",
       "      <td>7</td>\n",
       "      <td>Big Ideas</td>\n",
       "      <td>32LmcNM8fk7p7OznN6y6ZH</td>\n",
       "      <td>The Car</td>\n",
       "      <td>0.548</td>\n",
       "      <td>0.328</td>\n",
       "      <td>0.343</td>\n",
       "      <td>0.0</td>\n",
       "      <td>67.023</td>\n",
       "      <td>9.0</td>\n",
       "    </tr>\n",
       "    <tr>\n",
       "      <th>6</th>\n",
       "      <td>7</td>\n",
       "      <td>Riot Van</td>\n",
       "      <td>4wMR4fRKMTyUJG6VAsmccv</td>\n",
       "      <td>Whatever People Say I Am, That's What I'm Not</td>\n",
       "      <td>0.593</td>\n",
       "      <td>0.333</td>\n",
       "      <td>0.258</td>\n",
       "      <td>1.0</td>\n",
       "      <td>103.537</td>\n",
       "      <td>9.0</td>\n",
       "    </tr>\n",
       "    <tr>\n",
       "      <th>...</th>\n",
       "      <td>...</td>\n",
       "      <td>...</td>\n",
       "      <td>...</td>\n",
       "      <td>...</td>\n",
       "      <td>...</td>\n",
       "      <td>...</td>\n",
       "      <td>...</td>\n",
       "      <td>...</td>\n",
       "      <td>...</td>\n",
       "      <td>...</td>\n",
       "    </tr>\n",
       "    <tr>\n",
       "      <th>22</th>\n",
       "      <td>10</td>\n",
       "      <td>The Bad Thing</td>\n",
       "      <td>4N2yjWLIxZjOXDrCu2VlJe</td>\n",
       "      <td>Favourite Worst Nightmare</td>\n",
       "      <td>0.550</td>\n",
       "      <td>0.952</td>\n",
       "      <td>0.538</td>\n",
       "      <td>1.0</td>\n",
       "      <td>111.066</td>\n",
       "      <td>2.0</td>\n",
       "    </tr>\n",
       "    <tr>\n",
       "      <th>54</th>\n",
       "      <td>8</td>\n",
       "      <td>Fireside</td>\n",
       "      <td>4atMrAadB7dS8xn9vfk9PQ</td>\n",
       "      <td>AM</td>\n",
       "      <td>0.538</td>\n",
       "      <td>0.953</td>\n",
       "      <td>0.740</td>\n",
       "      <td>0.0</td>\n",
       "      <td>100.033</td>\n",
       "      <td>9.0</td>\n",
       "    </tr>\n",
       "    <tr>\n",
       "      <th>14</th>\n",
       "      <td>2</td>\n",
       "      <td>Teddy Picker</td>\n",
       "      <td>5kxVyCgEUND7E2QKG7JmoF</td>\n",
       "      <td>Favourite Worst Nightmare</td>\n",
       "      <td>0.637</td>\n",
       "      <td>0.963</td>\n",
       "      <td>0.823</td>\n",
       "      <td>1.0</td>\n",
       "      <td>150.100</td>\n",
       "      <td>9.0</td>\n",
       "    </tr>\n",
       "    <tr>\n",
       "      <th>4</th>\n",
       "      <td>5</td>\n",
       "      <td>You Probably Couldn't See For The Lights But Y...</td>\n",
       "      <td>111SaDBbcHW0zedi4RBHDp</td>\n",
       "      <td>Whatever People Say I Am, That's What I'm Not</td>\n",
       "      <td>0.580</td>\n",
       "      <td>0.972</td>\n",
       "      <td>0.926</td>\n",
       "      <td>0.0</td>\n",
       "      <td>105.492</td>\n",
       "      <td>11.0</td>\n",
       "    </tr>\n",
       "    <tr>\n",
       "      <th>13</th>\n",
       "      <td>1</td>\n",
       "      <td>Brianstorm</td>\n",
       "      <td>7f9I5WdyXm5q1XqnSYgQZb</td>\n",
       "      <td>Favourite Worst Nightmare</td>\n",
       "      <td>0.420</td>\n",
       "      <td>0.974</td>\n",
       "      <td>0.463</td>\n",
       "      <td>1.0</td>\n",
       "      <td>165.182</td>\n",
       "      <td>1.0</td>\n",
       "    </tr>\n",
       "  </tbody>\n",
       "</table>\n",
       "<p>80 rows × 10 columns</p>\n",
       "</div>"
      ],
      "text/plain": [
       "   track_number                                               name  \\\n",
       "73            4                               Jet Skis On The Moat   \n",
       "72            3                        Sculptures Of Anything Goes   \n",
       "74            5                                         Body Paint   \n",
       "76            7                                          Big Ideas   \n",
       "6             7                                           Riot Van   \n",
       "..          ...                                                ...   \n",
       "22           10                                      The Bad Thing   \n",
       "54            8                                           Fireside   \n",
       "14            2                                       Teddy Picker   \n",
       "4             5  You Probably Couldn't See For The Lights But Y...   \n",
       "13            1                                         Brianstorm   \n",
       "\n",
       "                        id                                          album  \\\n",
       "73  6WoYIBgGZTI5vkfUaoVdhS                                        The Car   \n",
       "72  77mMSHbgFDTnVJ4xPIYUwo                                        The Car   \n",
       "74  4Y9M5mNB71lX6RSpIu5Dk6                                        The Car   \n",
       "76  32LmcNM8fk7p7OznN6y6ZH                                        The Car   \n",
       "6   4wMR4fRKMTyUJG6VAsmccv  Whatever People Say I Am, That's What I'm Not   \n",
       "..                     ...                                            ...   \n",
       "22  4N2yjWLIxZjOXDrCu2VlJe                      Favourite Worst Nightmare   \n",
       "54  4atMrAadB7dS8xn9vfk9PQ                                             AM   \n",
       "14  5kxVyCgEUND7E2QKG7JmoF                      Favourite Worst Nightmare   \n",
       "4   111SaDBbcHW0zedi4RBHDp  Whatever People Say I Am, That's What I'm Not   \n",
       "13  7f9I5WdyXm5q1XqnSYgQZb                      Favourite Worst Nightmare   \n",
       "\n",
       "    danceability  energy   mood  mode    tempo   key  \n",
       "73         0.651   0.244  0.395   1.0  149.759   7.0  \n",
       "72         0.591   0.309  0.257   0.0   71.573   4.0  \n",
       "74         0.556   0.315  0.256   0.0  143.327   7.0  \n",
       "76         0.548   0.328  0.343   0.0   67.023   9.0  \n",
       "6          0.593   0.333  0.258   1.0  103.537   9.0  \n",
       "..           ...     ...    ...   ...      ...   ...  \n",
       "22         0.550   0.952  0.538   1.0  111.066   2.0  \n",
       "54         0.538   0.953  0.740   0.0  100.033   9.0  \n",
       "14         0.637   0.963  0.823   1.0  150.100   9.0  \n",
       "4          0.580   0.972  0.926   0.0  105.492  11.0  \n",
       "13         0.420   0.974  0.463   1.0  165.182   1.0  \n",
       "\n",
       "[80 rows x 10 columns]"
      ]
     },
     "execution_count": 57,
     "metadata": {},
     "output_type": "execute_result"
    }
   ],
   "source": [
    "df2.sort_values('energy')"
   ]
  },
  {
   "cell_type": "code",
   "execution_count": 59,
   "metadata": {},
   "outputs": [
    {
     "data": {
      "text/html": [
       "<div>\n",
       "<style scoped>\n",
       "    .dataframe tbody tr th:only-of-type {\n",
       "        vertical-align: middle;\n",
       "    }\n",
       "\n",
       "    .dataframe tbody tr th {\n",
       "        vertical-align: top;\n",
       "    }\n",
       "\n",
       "    .dataframe thead th {\n",
       "        text-align: right;\n",
       "    }\n",
       "</style>\n",
       "<table border=\"1\" class=\"dataframe\">\n",
       "  <thead>\n",
       "    <tr style=\"text-align: right;\">\n",
       "      <th></th>\n",
       "      <th>track_number</th>\n",
       "      <th>name</th>\n",
       "      <th>id</th>\n",
       "      <th>album</th>\n",
       "      <th>danceability</th>\n",
       "      <th>energy</th>\n",
       "      <th>mood</th>\n",
       "      <th>mode</th>\n",
       "      <th>tempo</th>\n",
       "      <th>key</th>\n",
       "    </tr>\n",
       "  </thead>\n",
       "  <tbody>\n",
       "    <tr>\n",
       "      <th>63</th>\n",
       "      <td>5</td>\n",
       "      <td>Golden Trunks</td>\n",
       "      <td>0U6Vg6RUmzADUO0Y9fVKft</td>\n",
       "      <td>Tranquility Base Hotel &amp; Casino</td>\n",
       "      <td>0.492</td>\n",
       "      <td>0.564</td>\n",
       "      <td>0.0896</td>\n",
       "      <td>1.0</td>\n",
       "      <td>92.544</td>\n",
       "      <td>2.0</td>\n",
       "    </tr>\n",
       "    <tr>\n",
       "      <th>18</th>\n",
       "      <td>6</td>\n",
       "      <td>Only Ones Who Know</td>\n",
       "      <td>71ytDkCnYc11VRiRCrhDHX</td>\n",
       "      <td>Favourite Worst Nightmare</td>\n",
       "      <td>0.290</td>\n",
       "      <td>0.399</td>\n",
       "      <td>0.0965</td>\n",
       "      <td>0.0</td>\n",
       "      <td>128.370</td>\n",
       "      <td>7.0</td>\n",
       "    </tr>\n",
       "    <tr>\n",
       "      <th>33</th>\n",
       "      <td>9</td>\n",
       "      <td>Pretty Visitors</td>\n",
       "      <td>45n7uujqwmMyBMjBu9SwRu</td>\n",
       "      <td>Humbug</td>\n",
       "      <td>0.244</td>\n",
       "      <td>0.896</td>\n",
       "      <td>0.1420</td>\n",
       "      <td>0.0</td>\n",
       "      <td>83.354</td>\n",
       "      <td>6.0</td>\n",
       "    </tr>\n",
       "    <tr>\n",
       "      <th>12</th>\n",
       "      <td>13</td>\n",
       "      <td>A Certain Romance</td>\n",
       "      <td>0eDQj41kzBhMKQIkTt6OJR</td>\n",
       "      <td>Whatever People Say I Am, That's What I'm Not</td>\n",
       "      <td>0.455</td>\n",
       "      <td>0.881</td>\n",
       "      <td>0.2010</td>\n",
       "      <td>1.0</td>\n",
       "      <td>137.949</td>\n",
       "      <td>11.0</td>\n",
       "    </tr>\n",
       "    <tr>\n",
       "      <th>75</th>\n",
       "      <td>6</td>\n",
       "      <td>The Car</td>\n",
       "      <td>7yzr3fhBxJRHt6M24m1gKg</td>\n",
       "      <td>The Car</td>\n",
       "      <td>0.428</td>\n",
       "      <td>0.365</td>\n",
       "      <td>0.2360</td>\n",
       "      <td>0.0</td>\n",
       "      <td>94.033</td>\n",
       "      <td>4.0</td>\n",
       "    </tr>\n",
       "    <tr>\n",
       "      <th>...</th>\n",
       "      <td>...</td>\n",
       "      <td>...</td>\n",
       "      <td>...</td>\n",
       "      <td>...</td>\n",
       "      <td>...</td>\n",
       "      <td>...</td>\n",
       "      <td>...</td>\n",
       "      <td>...</td>\n",
       "      <td>...</td>\n",
       "      <td>...</td>\n",
       "    </tr>\n",
       "    <tr>\n",
       "      <th>49</th>\n",
       "      <td>3</td>\n",
       "      <td>One For The Road</td>\n",
       "      <td>6wNUBZNWFxdUGof6vkaykE</td>\n",
       "      <td>AM</td>\n",
       "      <td>0.415</td>\n",
       "      <td>0.668</td>\n",
       "      <td>0.8420</td>\n",
       "      <td>1.0</td>\n",
       "      <td>180.048</td>\n",
       "      <td>0.0</td>\n",
       "    </tr>\n",
       "    <tr>\n",
       "      <th>3</th>\n",
       "      <td>4</td>\n",
       "      <td>Dancing Shoes</td>\n",
       "      <td>0hAMkY2kwdXPPDfQ1e3BmJ</td>\n",
       "      <td>Whatever People Say I Am, That's What I'm Not</td>\n",
       "      <td>0.522</td>\n",
       "      <td>0.889</td>\n",
       "      <td>0.8520</td>\n",
       "      <td>1.0</td>\n",
       "      <td>144.499</td>\n",
       "      <td>1.0</td>\n",
       "    </tr>\n",
       "    <tr>\n",
       "      <th>56</th>\n",
       "      <td>10</td>\n",
       "      <td>Snap Out Of It</td>\n",
       "      <td>0NdTUS4UiNYCNn5FgVqKQY</td>\n",
       "      <td>AM</td>\n",
       "      <td>0.728</td>\n",
       "      <td>0.638</td>\n",
       "      <td>0.8720</td>\n",
       "      <td>0.0</td>\n",
       "      <td>130.014</td>\n",
       "      <td>5.0</td>\n",
       "    </tr>\n",
       "    <tr>\n",
       "      <th>7</th>\n",
       "      <td>8</td>\n",
       "      <td>Red Light Indicates Doors Are Secured</td>\n",
       "      <td>56GFlp1dkt7dw56pQdTwqW</td>\n",
       "      <td>Whatever People Say I Am, That's What I'm Not</td>\n",
       "      <td>0.622</td>\n",
       "      <td>0.846</td>\n",
       "      <td>0.9140</td>\n",
       "      <td>0.0</td>\n",
       "      <td>110.683</td>\n",
       "      <td>11.0</td>\n",
       "    </tr>\n",
       "    <tr>\n",
       "      <th>4</th>\n",
       "      <td>5</td>\n",
       "      <td>You Probably Couldn't See For The Lights But Y...</td>\n",
       "      <td>111SaDBbcHW0zedi4RBHDp</td>\n",
       "      <td>Whatever People Say I Am, That's What I'm Not</td>\n",
       "      <td>0.580</td>\n",
       "      <td>0.972</td>\n",
       "      <td>0.9260</td>\n",
       "      <td>0.0</td>\n",
       "      <td>105.492</td>\n",
       "      <td>11.0</td>\n",
       "    </tr>\n",
       "  </tbody>\n",
       "</table>\n",
       "<p>80 rows × 10 columns</p>\n",
       "</div>"
      ],
      "text/plain": [
       "   track_number                                               name  \\\n",
       "63            5                                      Golden Trunks   \n",
       "18            6                                 Only Ones Who Know   \n",
       "33            9                                    Pretty Visitors   \n",
       "12           13                                  A Certain Romance   \n",
       "75            6                                            The Car   \n",
       "..          ...                                                ...   \n",
       "49            3                                   One For The Road   \n",
       "3             4                                      Dancing Shoes   \n",
       "56           10                                     Snap Out Of It   \n",
       "7             8              Red Light Indicates Doors Are Secured   \n",
       "4             5  You Probably Couldn't See For The Lights But Y...   \n",
       "\n",
       "                        id                                          album  \\\n",
       "63  0U6Vg6RUmzADUO0Y9fVKft                Tranquility Base Hotel & Casino   \n",
       "18  71ytDkCnYc11VRiRCrhDHX                      Favourite Worst Nightmare   \n",
       "33  45n7uujqwmMyBMjBu9SwRu                                         Humbug   \n",
       "12  0eDQj41kzBhMKQIkTt6OJR  Whatever People Say I Am, That's What I'm Not   \n",
       "75  7yzr3fhBxJRHt6M24m1gKg                                        The Car   \n",
       "..                     ...                                            ...   \n",
       "49  6wNUBZNWFxdUGof6vkaykE                                             AM   \n",
       "3   0hAMkY2kwdXPPDfQ1e3BmJ  Whatever People Say I Am, That's What I'm Not   \n",
       "56  0NdTUS4UiNYCNn5FgVqKQY                                             AM   \n",
       "7   56GFlp1dkt7dw56pQdTwqW  Whatever People Say I Am, That's What I'm Not   \n",
       "4   111SaDBbcHW0zedi4RBHDp  Whatever People Say I Am, That's What I'm Not   \n",
       "\n",
       "    danceability  energy    mood  mode    tempo   key  \n",
       "63         0.492   0.564  0.0896   1.0   92.544   2.0  \n",
       "18         0.290   0.399  0.0965   0.0  128.370   7.0  \n",
       "33         0.244   0.896  0.1420   0.0   83.354   6.0  \n",
       "12         0.455   0.881  0.2010   1.0  137.949  11.0  \n",
       "75         0.428   0.365  0.2360   0.0   94.033   4.0  \n",
       "..           ...     ...     ...   ...      ...   ...  \n",
       "49         0.415   0.668  0.8420   1.0  180.048   0.0  \n",
       "3          0.522   0.889  0.8520   1.0  144.499   1.0  \n",
       "56         0.728   0.638  0.8720   0.0  130.014   5.0  \n",
       "7          0.622   0.846  0.9140   0.0  110.683  11.0  \n",
       "4          0.580   0.972  0.9260   0.0  105.492  11.0  \n",
       "\n",
       "[80 rows x 10 columns]"
      ]
     },
     "execution_count": 59,
     "metadata": {},
     "output_type": "execute_result"
    }
   ],
   "source": [
    "df2.sort_values('mood')"
   ]
  },
  {
   "cell_type": "code",
   "execution_count": 25,
   "metadata": {},
   "outputs": [
    {
     "name": "stdout",
     "output_type": "stream",
     "text": [
      "Help on method artist_albums in module spotipy.client:\n",
      "\n",
      "artist_albums(artist_id, album_type=None, country=None, limit=20, offset=0) method of spotipy.client.Spotify instance\n",
      "    Get Spotify catalog information about an artist's albums\n",
      "    \n",
      "    Parameters:\n",
      "        - artist_id - the artist ID, URI or URL\n",
      "        - album_type - 'album', 'single', 'appears_on', 'compilation'\n",
      "        - country - limit the response to one particular country.\n",
      "        - limit  - the number of albums to return\n",
      "        - offset - the index of the first album to return\n",
      "\n"
     ]
    }
   ],
   "source": [
    "help(spotify.artist_albums)"
   ]
  },
  {
   "cell_type": "code",
   "execution_count": 2,
   "metadata": {},
   "outputs": [],
   "source": [
    "name = 'Strokes'\n",
    "results = spotify.search(q='artist:' + name, type='artist')\n",
    "items = results['artists']['items']\n"
   ]
  }
 ],
 "metadata": {
  "kernelspec": {
   "display_name": "sptfy",
   "language": "python",
   "name": "sptfy"
  },
  "language_info": {
   "codemirror_mode": {
    "name": "ipython",
    "version": 3
   },
   "file_extension": ".py",
   "mimetype": "text/x-python",
   "name": "python",
   "nbconvert_exporter": "python",
   "pygments_lexer": "ipython3",
   "version": "3.9.12"
  }
 },
 "nbformat": 4,
 "nbformat_minor": 2
}
